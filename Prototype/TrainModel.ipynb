{
 "cells": [
  {
   "cell_type": "markdown",
   "source": [
    "## Imports"
   ],
   "metadata": {
    "collapsed": false
   }
  },
  {
   "cell_type": "code",
   "execution_count": 167,
   "metadata": {
    "collapsed": true,
    "pycharm": {
     "name": "#%%\n"
    }
   },
   "outputs": [],
   "source": [
    "import pandas as pd\n",
    "import numpy as np\n",
    "import tensorflow as tf\n",
    "from keras import backend as k\n",
    "from keras.models import Sequential\n",
    "from keras.layers import Dense\n",
    "from keras.layers import Dropout\n",
    "from keras.layers import Flatten\n",
    "from keras.layers.convolutional import Convolution2D\n",
    "from keras.layers.convolutional import MaxPooling2D\n",
    "from sklearn.preprocessing import LabelEncoder,OneHotEncoder\n",
    "from sklearn.model_selection import train_test_split\n",
    "from sklearn import preprocessing\n",
    "from sklearn.metrics import classification_report\n",
    "import matplotlib.pyplot as plt"
   ]
  },
  {
   "cell_type": "markdown",
   "source": [
    "## Globals"
   ],
   "metadata": {
    "collapsed": false
   }
  },
  {
   "cell_type": "code",
   "execution_count": 168,
   "outputs": [],
   "source": [
    "CLASS_LABELS = ['non-violent','violent']\n",
    "LABELS_COUNT = len(CLASS_LABELS)\n",
    "\n",
    "DATASET_PATH = 'Dataset/dataset.csv'\n",
    "\n",
    "TRAIN_SPLIT = 0.8\n",
    "\n",
    "EPOCHS = 20"
   ],
   "metadata": {
    "collapsed": false,
    "pycharm": {
     "name": "#%%\n"
    }
   }
  },
  {
   "cell_type": "markdown",
   "source": [
    "## Import Dataset"
   ],
   "metadata": {
    "collapsed": false
   }
  },
  {
   "cell_type": "code",
   "execution_count": 169,
   "outputs": [],
   "source": [
    "#Import Dataset\n",
    "data = pd.read_csv(DATASET_PATH).values\n",
    "\n",
    "data[data == \"non-violent\"] = 0\n",
    "data[data == \"violent\"] = 1\n",
    "\n",
    "data = data.astype('float32')\n",
    "\n",
    "#Shuffle Data\n",
    "for x in range(100):\n",
    "    np.random.shuffle(data)\n",
    "\n",
    "TRAIN_AMOUNT = int(data.shape[0] * TRAIN_SPLIT)\n",
    "BATCH_SIZE = 32"
   ],
   "metadata": {
    "collapsed": false,
    "pycharm": {
     "name": "#%%\n"
    }
   }
  },
  {
   "cell_type": "markdown",
   "source": [
    "## Split Dataset"
   ],
   "metadata": {
    "collapsed": false
   }
  },
  {
   "cell_type": "code",
   "execution_count": 170,
   "outputs": [],
   "source": [
    "#Split Data into Train and Test\n",
    "train = data[0:TRAIN_AMOUNT]\n",
    "test = data[TRAIN_AMOUNT:]\n",
    "\n",
    "#Extract Data and Reshape to (19,2,3)\n",
    "x_train = np.reshape(train[:, 1:],(train.shape[0],19,3,2)).swapaxes(2,3)\n",
    "x_test = np.reshape(test[:, 1:],(test.shape[0],19,3,2)).swapaxes(2,3)\n",
    "\n",
    "#Extract Labels\n",
    "y_train = train[:,0]\n",
    "y_test = test[:,0]"
   ],
   "metadata": {
    "collapsed": false,
    "pycharm": {
     "name": "#%%\n"
    }
   }
  },
  {
   "cell_type": "markdown",
   "source": [
    "## Build Model"
   ],
   "metadata": {
    "collapsed": false
   }
  },
  {
   "cell_type": "code",
   "execution_count": 171,
   "outputs": [],
   "source": [
    "my_model = Sequential()\n",
    "\n",
    "k.set_image_data_format('channels_first')\n",
    "\n",
    "my_model.add(Convolution2D(32, 3, padding=\"same\", activation=\"relu\", input_shape=(19,2,3)))\n",
    "my_model.add(MaxPooling2D((2,2), padding='same'))\n",
    "\n",
    "my_model.add(Convolution2D(32, 3, padding=\"same\", activation=\"relu\"))\n",
    "my_model.add(MaxPooling2D((2,2), padding='same'))\n",
    "\n",
    "my_model.add(Convolution2D(64, 3, padding=\"same\", activation=\"relu\"))\n",
    "my_model.add(MaxPooling2D((2,2), padding='same'))\n",
    "\n",
    "my_model.add(Dropout(0.4))\n",
    "\n",
    "my_model.add(Flatten())\n",
    "\n",
    "my_model.add(Dense(128,activation=\"relu\"))\n",
    "my_model.add(Dense(1, activation=\"sigmoid\"))"
   ],
   "metadata": {
    "collapsed": false,
    "pycharm": {
     "name": "#%%\n"
    }
   }
  },
  {
   "cell_type": "markdown",
   "source": [
    "## Train Model"
   ],
   "metadata": {
    "collapsed": false
   }
  },
  {
   "cell_type": "code",
   "execution_count": 172,
   "outputs": [
    {
     "name": "stdout",
     "output_type": "stream",
     "text": [
      "Epoch 1/20\n",
      "5/5 [==============================] - 1s 60ms/step - loss: 7.3302 - accuracy: 0.5573 - val_loss: 0.3872 - val_accuracy: 0.9394\b\b\b\b\b\b\b\b\b\b\b\b\b\b\b\b\b\b\b\b\b\b\b\b\b\b\b\b\b\b\b\b\b\b\b\n",
      "Epoch 2/20\n",
      "5/5 [==============================] - 0s 16ms/step - loss: 2.3641 - accuracy: 0.5725 - val_loss: 1.0125 - val_accuracy: 0.9091\b\b\b\b\b\b\b\b\b\b\b\b\b\b\b\b\b\b\b\b\b\b\b\b\b\b\b\b\b\b\b\b\b\n",
      "Epoch 3/20\n",
      "5/5 [==============================] - 0s 17ms/step - loss: 1.8349 - accuracy: 0.8015 - val_loss: 0.3278 - val_accuracy: 0.9394\b\b\b\b\b\b\b\b\b\b\b\b\b\b\b\b\b\b\b\b\b\b\b\b\b\b\b\b\b\b\b\b\b\n",
      "Epoch 4/20\n",
      "5/5 [==============================] - 0s 16ms/step - loss: 0.7744 - accuracy: 0.7634 - val_loss: 0.1746 - val_accuracy: 0.9394\b\b\b\b\b\b\b\b\b\b\b\b\b\b\b\b\b\b\b\b\b\b\b\b\b\b\b\b\b\b\b\b\b\n",
      "Epoch 5/20\n",
      "5/5 [==============================] - 0s 16ms/step - loss: 0.9635 - accuracy: 0.8092 - val_loss: 0.1560 - val_accuracy: 0.9697\b\b\b\b\b\b\b\b\b\b\b\b\b\b\b\b\b\b\b\b\b\b\b\b\b\b\b\b\b\b\b\b\b\n",
      "Epoch 6/20\n",
      "5/5 [==============================] - 0s 15ms/step - loss: 0.6641 - accuracy: 0.7786 - val_loss: 0.0461 - val_accuracy: 0.9697\b\b\b\b\b\b\b\b\b\b\b\b\b\b\b\b\b\b\b\b\b\b\b\b\b\b\b\b\b\b\b\b\b\n",
      "Epoch 7/20\n",
      "5/5 [==============================] - 0s 16ms/step - loss: 0.5820 - accuracy: 0.8855 - val_loss: 0.0997 - val_accuracy: 0.9697\b\b\b\b\b\b\b\b\b\b\b\b\b\b\b\b\b\b\b\b\b\b\b\b\b\b\b\b\b\b\b\b\b\n",
      "Epoch 8/20\n",
      "5/5 [==============================] - 0s 18ms/step - loss: 0.5043 - accuracy: 0.9008 - val_loss: 0.1631 - val_accuracy: 0.9697\b\b\b\b\b\b\b\b\b\b\b\b\b\b\b\b\b\b\b\b\b\b\b\b\b\b\b\b\b\b\b\b\b\n",
      "Epoch 9/20\n",
      "5/5 [==============================] - 0s 15ms/step - loss: 0.3086 - accuracy: 0.9084 - val_loss: 0.3856 - val_accuracy: 0.9394\b\b\b\b\b\b\b\b\b\b\b\b\b\b\b\b\b\b\b\b\b\b\b\b\b\b\b\b\b\b\b\b\b\n",
      "Epoch 10/20\n",
      "5/5 [==============================] - 0s 18ms/step - loss: 0.3132 - accuracy: 0.8550 - val_loss: 0.1689 - val_accuracy: 0.9394\b\b\b\b\b\b\b\b\b\b\b\b\b\b\b\b\b\b\b\b\b\b\b\b\b\b\b\b\b\b\b\b\b\n",
      "Epoch 11/20\n",
      "5/5 [==============================] - 0s 19ms/step - loss: 0.1779 - accuracy: 0.9466 - val_loss: 0.1971 - val_accuracy: 0.9697\b\b\b\b\b\b\b\b\b\b\b\b\b\b\b\b\b\b\b\b\b\b\b\b\b\b\b\b\b\b\b\b\b\n",
      "Epoch 12/20\n",
      "5/5 [==============================] - 0s 16ms/step - loss: 0.1328 - accuracy: 0.9695 - val_loss: 0.2921 - val_accuracy: 0.9697\b\b\b\b\b\b\b\b\b\b\b\b\b\b\b\b\b\b\b\b\b\b\b\b\b\b\b\b\b\b\b\b\b\n",
      "Epoch 13/20\n",
      "5/5 [==============================] - 0s 16ms/step - loss: 0.1056 - accuracy: 0.9771 - val_loss: 0.2146 - val_accuracy: 0.9697\b\b\b\b\b\b\b\b\b\b\b\b\b\b\b\b\b\b\b\b\b\b\b\b\b\b\b\b\b\b\b\b\b\n",
      "Epoch 14/20\n",
      "5/5 [==============================] - 0s 14ms/step - loss: 0.1530 - accuracy: 0.9389 - val_loss: 0.4955 - val_accuracy: 0.9394\b\b\b\b\b\b\b\b\b\b\b\b\b\b\b\b\b\b\b\b\b\b\b\b\b\b\b\b\b\b\b\b\b\n",
      "Epoch 15/20\n",
      "5/5 [==============================] - 0s 14ms/step - loss: 0.8521 - accuracy: 0.6718 - val_loss: 0.0193 - val_accuracy: 1.0000\b\b\b\b\b\b\b\b\b\b\b\b\b\b\b\b\b\b\b\b\b\b\b\b\b\b\b\b\b\b\b\b\b\n",
      "Epoch 16/20\n",
      "5/5 [==============================] - 0s 15ms/step - loss: 0.6878 - accuracy: 0.8855 - val_loss: 0.1166 - val_accuracy: 0.9697\b\b\b\b\b\b\b\b\b\b\b\b\b\b\b\b\b\b\b\b\b\b\b\b\b\b\b\b\b\b\b\b\b\n",
      "Epoch 17/20\n",
      "5/5 [==============================] - 0s 17ms/step - loss: 0.4335 - accuracy: 0.8855 - val_loss: 0.9531 - val_accuracy: 0.6061\b\b\b\b\b\b\b\b\b\b\b\b\b\b\b\b\b\b\b\b\b\b\b\b\b\b\b\b\b\b\b\b\b\n",
      "Epoch 18/20\n",
      "5/5 [==============================] - 0s 15ms/step - loss: 0.4359 - accuracy: 0.8397 - val_loss: 0.0275 - val_accuracy: 1.0000\b\b\b\b\b\b\b\b\b\b\b\b\b\b\b\b\b\b\b\b\b\b\b\b\b\b\b\b\b\b\b\b\b\n",
      "Epoch 19/20\n",
      "5/5 [==============================] - 0s 15ms/step - loss: 0.3813 - accuracy: 0.8931 - val_loss: 0.0735 - val_accuracy: 0.9697\b\b\b\b\b\b\b\b\b\b\b\b\b\b\b\b\b\b\b\b\b\b\b\b\b\b\b\b\b\b\b\b\b\n",
      "Epoch 20/20\n",
      "5/5 [==============================] - 0s 15ms/step - loss: 0.2037 - accuracy: 0.9237 - val_loss: 0.1360 - val_accuracy: 0.9697\b\b\b\b\b\b\b\b\b\b\b\b\b\b\b\b\b\b\b\b\b\b\b\b\b\b\b\b\b\b\b\b\b\n"
     ]
    }
   ],
   "source": [
    "# Compile Model\n",
    "my_model.compile(loss= 'binary_crossentropy' , optimizer= 'adam' , metrics=['accuracy'])\n",
    "\n",
    "#Train Model\n",
    "history = my_model.fit(x_train, y_train, epochs=EPOCHS, batch_size=BATCH_SIZE, validation_data = (x_test, y_test))"
   ],
   "metadata": {
    "collapsed": false,
    "pycharm": {
     "name": "#%%\n"
    }
   }
  },
  {
   "cell_type": "markdown",
   "source": [
    "## Model Evaluation"
   ],
   "metadata": {
    "collapsed": false
   }
  },
  {
   "cell_type": "code",
   "execution_count": 173,
   "outputs": [
    {
     "name": "stdout",
     "output_type": "stream",
     "text": [
      "2/2 [==============================] - 0s 6ms/step - loss: 0.1360 - accuracy: 0.9697\b\b\b\b\b\b\b\b\b\b\b\b\b\b\b\b\b\b\b\b\b\b\b\b\b\b\b\b\b\b\b\b\b\b\b\b\b\b\b\b\b\b\b\b\b\b\b\b\b\b\b\b\b\b\b\b\b\b\b\b\b\b\b\b\b\b\b\b\b\b\b\b\b\b\b\b\n",
      "Model: \"sequential_13\"\n",
      "_________________________________________________________________\n",
      " Layer (type)                Output Shape              Param #   \n",
      "=================================================================\n",
      " conv2d_29 (Conv2D)          (None, 32, 2, 3)          5504      \n",
      "                                                                 \n",
      " max_pooling2d_24 (MaxPoolin  (None, 32, 1, 2)         0         \n",
      " g2D)                                                            \n",
      "                                                                 \n",
      " conv2d_30 (Conv2D)          (None, 32, 1, 2)          9248      \n",
      "                                                                 \n",
      " max_pooling2d_25 (MaxPoolin  (None, 32, 1, 1)         0         \n",
      " g2D)                                                            \n",
      "                                                                 \n",
      " conv2d_31 (Conv2D)          (None, 64, 1, 1)          18496     \n",
      "                                                                 \n",
      " max_pooling2d_26 (MaxPoolin  (None, 64, 1, 1)         0         \n",
      " g2D)                                                            \n",
      "                                                                 \n",
      " dropout_8 (Dropout)         (None, 64, 1, 1)          0         \n",
      "                                                                 \n",
      " flatten_8 (Flatten)         (None, 64)                0         \n",
      "                                                                 \n",
      " dense_16 (Dense)            (None, 128)               8320      \n",
      "                                                                 \n",
      " dense_17 (Dense)            (None, 1)                 129       \n",
      "                                                                 \n",
      "=================================================================\n",
      "Total params: 41,697\n",
      "Trainable params: 41,697\n",
      "Non-trainable params: 0\n",
      "_________________________________________________________________\n"
     ]
    }
   ],
   "source": [
    "#Evaluate Model\n",
    "score = my_model.evaluate(x_test, y_test, batch_size=EPOCHS)\n",
    "\n",
    "my_model.summary()"
   ],
   "metadata": {
    "collapsed": false,
    "pycharm": {
     "name": "#%%\n"
    }
   }
  },
  {
   "cell_type": "markdown",
   "source": [
    "## Plot Graphs"
   ],
   "metadata": {
    "collapsed": false,
    "pycharm": {
     "name": "#%% md\n"
    }
   }
  },
  {
   "cell_type": "code",
   "execution_count": 174,
   "outputs": [
    {
     "data": {
      "text/plain": "<Figure size 360x216 with 1 Axes>",
      "image/png": "[encoded data removed]"
     },
     "metadata": {},
     "output_type": "display_data"
    },
    {
     "data": {
      "text/plain": "<Figure size 360x216 with 1 Axes>",
      "image/png": "[encoded data removed]"
     },
     "metadata": {},
     "output_type": "display_data"
    }
   ],
   "source": [
    "plt.style.use('fivethirtyeight')\n",
    "\n",
    "xepochs = [i+1 for i in range(0, len(history.history['loss']))]\n",
    "plt.figure(figsize=(5,3))\n",
    "\n",
    "# Loss\n",
    "plt.plot(xepochs, history.history['loss'])\n",
    "plt.plot(xepochs, history.history['val_loss'])\n",
    "plt.xticks(xepochs)\n",
    "plt.title('model loss')\n",
    "plt.ylabel('loss')\n",
    "plt.xlabel('epoch')\n",
    "plt.legend(['training', 'validation'], loc='upper left')\n",
    "plt.show()\n",
    "\n",
    "# Accuracy\n",
    "plt.figure(figsize=(5,3))\n",
    "plt.plot(xepochs, history.history['accuracy'])\n",
    "plt.plot(xepochs, history.history['val_accuracy'])\n",
    "plt.xticks(xepochs)\n",
    "plt.title('model accuracy')\n",
    "plt.ylabel('accuracy')\n",
    "plt.xlabel('epoch')\n",
    "plt.legend(['training', 'validation'], loc='upper left')\n",
    "plt.show()"
   ],
   "metadata": {
    "collapsed": false,
    "pycharm": {
     "name": "#%%\n"
    }
   }
  },
  {
   "cell_type": "markdown",
   "source": [
    "## Classification Report"
   ],
   "metadata": {
    "collapsed": false
   }
  },
  {
   "cell_type": "code",
   "execution_count": 175,
   "outputs": [
    {
     "name": "stdout",
     "output_type": "stream",
     "text": [
      "[0. 0. 0. 0. 0. 0. 1. 0. 0. 0. 0. 0. 0. 0. 0. 0. 0. 0. 0. 0. 0. 0. 0. 0.\n",
      " 1. 0. 0. 0. 0. 0. 1. 0. 0.]\n",
      "[0 0 0 0 0 0 0 0 0 0 0 0 0 0 0 0 0 0 0 0 0 0 0 0 0 0 0 0 0 0 0 0 0]\n",
      "[0, 0, 0, 0, 0, 0, 0, 0, 0, 0, 0, 0, 0, 0, 0, 0, 0, 0, 0, 0, 0, 0, 0, 0, 0, 0, 0, 0, 0, 0, 0, 0, 0]\n",
      "              precision    recall  f1-score   support\n",
      "\n",
      " non-violent       0.91      1.00      0.95        30\n",
      "     violent       0.00      0.00      0.00         3\n",
      "\n",
      "    accuracy                           0.91        33\n",
      "   macro avg       0.45      0.50      0.48        33\n",
      "weighted avg       0.83      0.91      0.87        33\n",
      "\n",
      "              precision    recall  f1-score   support\n",
      "\n",
      " non-violent       0.91      1.00      0.95        30\n",
      "     violent       0.00      0.00      0.00         3\n",
      "\n",
      "    accuracy                           0.91        33\n",
      "   macro avg       0.45      0.50      0.48        33\n",
      "weighted avg       0.83      0.91      0.87        33\n",
      "\n"
     ]
    },
    {
     "name": "stderr",
     "output_type": "stream",
     "text": [
      "C:\\Users\\Sean\\anaconda3\\envs\\ThesisEnv\\lib\\site-packages\\sklearn\\metrics\\_classification.py:1318: UndefinedMetricWarning: Precision and F-score are ill-defined and being set to 0.0 in labels with no predicted samples. Use `zero_division` parameter to control this behavior.\n",
      "  _warn_prf(average, modifier, msg_start, len(result))\n",
      "C:\\Users\\Sean\\anaconda3\\envs\\ThesisEnv\\lib\\site-packages\\sklearn\\metrics\\_classification.py:1318: UndefinedMetricWarning: Precision and F-score are ill-defined and being set to 0.0 in labels with no predicted samples. Use `zero_division` parameter to control this behavior.\n",
      "  _warn_prf(average, modifier, msg_start, len(result))\n",
      "C:\\Users\\Sean\\anaconda3\\envs\\ThesisEnv\\lib\\site-packages\\sklearn\\metrics\\_classification.py:1318: UndefinedMetricWarning: Precision and F-score are ill-defined and being set to 0.0 in labels with no predicted samples. Use `zero_division` parameter to control this behavior.\n",
      "  _warn_prf(average, modifier, msg_start, len(result))\n",
      "C:\\Users\\Sean\\anaconda3\\envs\\ThesisEnv\\lib\\site-packages\\sklearn\\metrics\\_classification.py:1318: UndefinedMetricWarning: Precision and F-score are ill-defined and being set to 0.0 in labels with no predicted samples. Use `zero_division` parameter to control this behavior.\n",
      "  _warn_prf(average, modifier, msg_start, len(result))\n",
      "C:\\Users\\Sean\\anaconda3\\envs\\ThesisEnv\\lib\\site-packages\\sklearn\\metrics\\_classification.py:1318: UndefinedMetricWarning: Precision and F-score are ill-defined and being set to 0.0 in labels with no predicted samples. Use `zero_division` parameter to control this behavior.\n",
      "  _warn_prf(average, modifier, msg_start, len(result))\n",
      "C:\\Users\\Sean\\anaconda3\\envs\\ThesisEnv\\lib\\site-packages\\sklearn\\metrics\\_classification.py:1318: UndefinedMetricWarning: Precision and F-score are ill-defined and being set to 0.0 in labels with no predicted samples. Use `zero_division` parameter to control this behavior.\n",
      "  _warn_prf(average, modifier, msg_start, len(result))\n"
     ]
    }
   ],
   "source": [
    "predictions = my_model.predict(x_test)\n",
    "\n",
    "#FIRST VERSION??\n",
    "pred_class = np.argmax(predictions,axis=1)\n",
    "\n",
    "#SECOND VERSION??\n",
    "pred_class_1 = []\n",
    "\n",
    "for x in predictions:\n",
    "    if x == 1:\n",
    "        pred_class_1.append(1)\n",
    "    else:\n",
    "        pred_class_1.append(0)\n",
    "\n",
    "print(y_test)\n",
    "print(pred_class)\n",
    "print(pred_class_1)\n",
    "\n",
    "print(classification_report(y_test, pred_class, target_names=['non-violent', 'violent']))\n",
    "print(classification_report(y_test, pred_class_1, target_names=['non-violent', 'violent']))"
   ],
   "metadata": {
    "collapsed": false,
    "pycharm": {
     "name": "#%%\n"
    }
   }
  },
  {
   "cell_type": "markdown",
   "source": [
    "## Export Model and Weights"
   ],
   "metadata": {
    "collapsed": false,
    "pycharm": {
     "name": "#%% md\n"
    }
   }
  },
  {
   "cell_type": "code",
   "execution_count": 176,
   "outputs": [],
   "source": [
    "# serialize to JSON\n",
    "json_file = my_model.to_json()\n",
    "with open(\"ViolentModel/violent_model_json\", \"w\") as file:\n",
    "   file.write(json_file)\n",
    "\n",
    "# serialize weights to HDF5\n",
    "my_model.save_weights(\"ViolentModel/violent_model_weights.h5\")"
   ],
   "metadata": {
    "collapsed": false,
    "pycharm": {
     "name": "#%%\n"
    }
   }
  }
 ],
 "metadata": {
  "kernelspec": {
   "display_name": "Python 3",
   "language": "python",
   "name": "python3"
  },
  "language_info": {
   "codemirror_mode": {
    "name": "ipython",
    "version": 2
   },
   "file_extension": ".py",
   "mimetype": "text/x-python",
   "name": "python",
   "nbconvert_exporter": "python",
   "pygments_lexer": "ipython2",
   "version": "2.7.6"
  }
 },
 "nbformat": 4,
 "nbformat_minor": 0
}