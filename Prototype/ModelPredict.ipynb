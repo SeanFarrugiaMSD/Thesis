{
 "cells": [
  {
   "cell_type": "markdown",
   "source": [
    "## Imports"
   ],
   "metadata": {
    "collapsed": false
   }
  },
  {
   "cell_type": "code",
   "execution_count": 1,
   "outputs": [
    {
     "ename": "KeyboardInterrupt",
     "evalue": "",
     "output_type": "error",
     "traceback": [
      "\u001B[1;31m---------------------------------------------------------------------------\u001B[0m",
      "\u001B[1;31mKeyboardInterrupt\u001B[0m                         Traceback (most recent call last)",
      "\u001B[1;32m~\\AppData\\Local\\Temp\\ipykernel_14360\\2313576993.py\u001B[0m in \u001B[0;36m<module>\u001B[1;34m\u001B[0m\n\u001B[1;32m----> 1\u001B[1;33m \u001B[1;32mfrom\u001B[0m \u001B[0mkeras\u001B[0m\u001B[1;33m.\u001B[0m\u001B[0mmodels\u001B[0m \u001B[1;32mimport\u001B[0m \u001B[0mmodel_from_json\u001B[0m\u001B[1;33m\u001B[0m\u001B[1;33m\u001B[0m\u001B[0m\n\u001B[0m\u001B[0;32m      2\u001B[0m \u001B[1;33m\u001B[0m\u001B[0m\n\u001B[0;32m      3\u001B[0m \u001B[1;32mimport\u001B[0m \u001B[0msys\u001B[0m\u001B[1;33m\u001B[0m\u001B[1;33m\u001B[0m\u001B[0m\n\u001B[0;32m      4\u001B[0m \u001B[1;32mimport\u001B[0m \u001B[0mmath\u001B[0m\u001B[1;33m\u001B[0m\u001B[1;33m\u001B[0m\u001B[0m\n\u001B[0;32m      5\u001B[0m \u001B[1;32mimport\u001B[0m \u001B[0mre\u001B[0m\u001B[1;33m\u001B[0m\u001B[1;33m\u001B[0m\u001B[0m\n",
      "\u001B[1;32m~\\anaconda3\\envs\\ThesisEnv\\lib\\site-packages\\keras\\__init__.py\u001B[0m in \u001B[0;36m<module>\u001B[1;34m\u001B[0m\n\u001B[0;32m     23\u001B[0m \u001B[1;33m\u001B[0m\u001B[0m\n\u001B[0;32m     24\u001B[0m \u001B[1;31m# See b/110718070#comment18 for more details about this import.\u001B[0m\u001B[1;33m\u001B[0m\u001B[1;33m\u001B[0m\u001B[0m\n\u001B[1;32m---> 25\u001B[1;33m \u001B[1;32mfrom\u001B[0m \u001B[0mkeras\u001B[0m \u001B[1;32mimport\u001B[0m \u001B[0mmodels\u001B[0m\u001B[1;33m\u001B[0m\u001B[1;33m\u001B[0m\u001B[0m\n\u001B[0m\u001B[0;32m     26\u001B[0m \u001B[1;33m\u001B[0m\u001B[0m\n\u001B[0;32m     27\u001B[0m \u001B[1;32mfrom\u001B[0m \u001B[0mkeras\u001B[0m\u001B[1;33m.\u001B[0m\u001B[0mengine\u001B[0m\u001B[1;33m.\u001B[0m\u001B[0minput_layer\u001B[0m \u001B[1;32mimport\u001B[0m \u001B[0mInput\u001B[0m\u001B[1;33m\u001B[0m\u001B[1;33m\u001B[0m\u001B[0m\n",
      "\u001B[1;32m~\\anaconda3\\envs\\ThesisEnv\\lib\\site-packages\\keras\\models.py\u001B[0m in \u001B[0;36m<module>\u001B[1;34m\u001B[0m\n\u001B[0;32m     18\u001B[0m \u001B[1;32mimport\u001B[0m \u001B[0mtensorflow\u001B[0m\u001B[1;33m.\u001B[0m\u001B[0mcompat\u001B[0m\u001B[1;33m.\u001B[0m\u001B[0mv2\u001B[0m \u001B[1;32mas\u001B[0m \u001B[0mtf\u001B[0m\u001B[1;33m\u001B[0m\u001B[1;33m\u001B[0m\u001B[0m\n\u001B[0;32m     19\u001B[0m \u001B[1;32mfrom\u001B[0m \u001B[0mkeras\u001B[0m \u001B[1;32mimport\u001B[0m \u001B[0mbackend\u001B[0m\u001B[1;33m\u001B[0m\u001B[1;33m\u001B[0m\u001B[0m\n\u001B[1;32m---> 20\u001B[1;33m \u001B[1;32mfrom\u001B[0m \u001B[0mkeras\u001B[0m \u001B[1;32mimport\u001B[0m \u001B[0mmetrics\u001B[0m \u001B[1;32mas\u001B[0m \u001B[0mmetrics_module\u001B[0m\u001B[1;33m\u001B[0m\u001B[1;33m\u001B[0m\u001B[0m\n\u001B[0m\u001B[0;32m     21\u001B[0m \u001B[1;32mfrom\u001B[0m \u001B[0mkeras\u001B[0m \u001B[1;32mimport\u001B[0m \u001B[0moptimizer_v1\u001B[0m\u001B[1;33m\u001B[0m\u001B[1;33m\u001B[0m\u001B[0m\n\u001B[0;32m     22\u001B[0m \u001B[1;32mfrom\u001B[0m \u001B[0mkeras\u001B[0m\u001B[1;33m.\u001B[0m\u001B[0mengine\u001B[0m \u001B[1;32mimport\u001B[0m \u001B[0mfunctional\u001B[0m\u001B[1;33m\u001B[0m\u001B[1;33m\u001B[0m\u001B[0m\n",
      "\u001B[1;32m~\\anaconda3\\envs\\ThesisEnv\\lib\\site-packages\\keras\\metrics.py\u001B[0m in \u001B[0;36m<module>\u001B[1;34m\u001B[0m\n\u001B[0;32m     24\u001B[0m \u001B[1;33m\u001B[0m\u001B[0m\n\u001B[0;32m     25\u001B[0m \u001B[1;32mimport\u001B[0m \u001B[0mnumpy\u001B[0m \u001B[1;32mas\u001B[0m \u001B[0mnp\u001B[0m\u001B[1;33m\u001B[0m\u001B[1;33m\u001B[0m\u001B[0m\n\u001B[1;32m---> 26\u001B[1;33m \u001B[1;32mfrom\u001B[0m \u001B[0mkeras\u001B[0m \u001B[1;32mimport\u001B[0m \u001B[0mactivations\u001B[0m\u001B[1;33m\u001B[0m\u001B[1;33m\u001B[0m\u001B[0m\n\u001B[0m\u001B[0;32m     27\u001B[0m \u001B[1;32mfrom\u001B[0m \u001B[0mkeras\u001B[0m \u001B[1;32mimport\u001B[0m \u001B[0mbackend\u001B[0m\u001B[1;33m\u001B[0m\u001B[1;33m\u001B[0m\u001B[0m\n\u001B[0;32m     28\u001B[0m \u001B[1;32mfrom\u001B[0m \u001B[0mkeras\u001B[0m\u001B[1;33m.\u001B[0m\u001B[0mengine\u001B[0m \u001B[1;32mimport\u001B[0m \u001B[0mbase_layer\u001B[0m\u001B[1;33m\u001B[0m\u001B[1;33m\u001B[0m\u001B[0m\n",
      "\u001B[1;32m~\\anaconda3\\envs\\ThesisEnv\\lib\\site-packages\\keras\\activations.py\u001B[0m in \u001B[0;36m<module>\u001B[1;34m\u001B[0m\n\u001B[0;32m     18\u001B[0m \u001B[1;33m\u001B[0m\u001B[0m\n\u001B[0;32m     19\u001B[0m \u001B[1;32mfrom\u001B[0m \u001B[0mkeras\u001B[0m \u001B[1;32mimport\u001B[0m \u001B[0mbackend\u001B[0m\u001B[1;33m\u001B[0m\u001B[1;33m\u001B[0m\u001B[0m\n\u001B[1;32m---> 20\u001B[1;33m \u001B[1;32mfrom\u001B[0m \u001B[0mkeras\u001B[0m\u001B[1;33m.\u001B[0m\u001B[0mlayers\u001B[0m \u001B[1;32mimport\u001B[0m \u001B[0madvanced_activations\u001B[0m\u001B[1;33m\u001B[0m\u001B[1;33m\u001B[0m\u001B[0m\n\u001B[0m\u001B[0;32m     21\u001B[0m \u001B[1;32mfrom\u001B[0m \u001B[0mkeras\u001B[0m\u001B[1;33m.\u001B[0m\u001B[0mutils\u001B[0m\u001B[1;33m.\u001B[0m\u001B[0mgeneric_utils\u001B[0m \u001B[1;32mimport\u001B[0m \u001B[0mdeserialize_keras_object\u001B[0m\u001B[1;33m\u001B[0m\u001B[1;33m\u001B[0m\u001B[0m\n\u001B[0;32m     22\u001B[0m \u001B[1;32mfrom\u001B[0m \u001B[0mkeras\u001B[0m\u001B[1;33m.\u001B[0m\u001B[0mutils\u001B[0m\u001B[1;33m.\u001B[0m\u001B[0mgeneric_utils\u001B[0m \u001B[1;32mimport\u001B[0m \u001B[0mserialize_keras_object\u001B[0m\u001B[1;33m\u001B[0m\u001B[1;33m\u001B[0m\u001B[0m\n",
      "\u001B[1;32m~\\anaconda3\\envs\\ThesisEnv\\lib\\site-packages\\keras\\layers\\__init__.py\u001B[0m in \u001B[0;36m<module>\u001B[1;34m\u001B[0m\n\u001B[0;32m     21\u001B[0m \u001B[1;33m\u001B[0m\u001B[0m\n\u001B[0;32m     22\u001B[0m \u001B[1;31m# Generic layers.\u001B[0m\u001B[1;33m\u001B[0m\u001B[1;33m\u001B[0m\u001B[0m\n\u001B[1;32m---> 23\u001B[1;33m \u001B[1;32mfrom\u001B[0m \u001B[0mkeras\u001B[0m\u001B[1;33m.\u001B[0m\u001B[0mengine\u001B[0m\u001B[1;33m.\u001B[0m\u001B[0minput_layer\u001B[0m \u001B[1;32mimport\u001B[0m \u001B[0mInput\u001B[0m\u001B[1;33m\u001B[0m\u001B[1;33m\u001B[0m\u001B[0m\n\u001B[0m\u001B[0;32m     24\u001B[0m \u001B[1;32mfrom\u001B[0m \u001B[0mkeras\u001B[0m\u001B[1;33m.\u001B[0m\u001B[0mengine\u001B[0m\u001B[1;33m.\u001B[0m\u001B[0minput_layer\u001B[0m \u001B[1;32mimport\u001B[0m \u001B[0mInputLayer\u001B[0m\u001B[1;33m\u001B[0m\u001B[1;33m\u001B[0m\u001B[0m\n\u001B[0;32m     25\u001B[0m \u001B[1;32mfrom\u001B[0m \u001B[0mkeras\u001B[0m\u001B[1;33m.\u001B[0m\u001B[0mengine\u001B[0m\u001B[1;33m.\u001B[0m\u001B[0minput_spec\u001B[0m \u001B[1;32mimport\u001B[0m \u001B[0mInputSpec\u001B[0m\u001B[1;33m\u001B[0m\u001B[1;33m\u001B[0m\u001B[0m\n",
      "\u001B[1;32m~\\anaconda3\\envs\\ThesisEnv\\lib\\site-packages\\keras\\engine\\input_layer.py\u001B[0m in \u001B[0;36m<module>\u001B[1;34m\u001B[0m\n\u001B[0;32m     19\u001B[0m \u001B[1;32mfrom\u001B[0m \u001B[0mkeras\u001B[0m \u001B[1;32mimport\u001B[0m \u001B[0mbackend\u001B[0m\u001B[1;33m\u001B[0m\u001B[1;33m\u001B[0m\u001B[0m\n\u001B[0;32m     20\u001B[0m \u001B[1;32mfrom\u001B[0m \u001B[0mkeras\u001B[0m\u001B[1;33m.\u001B[0m\u001B[0mdistribute\u001B[0m \u001B[1;32mimport\u001B[0m \u001B[0mdistributed_training_utils\u001B[0m\u001B[1;33m\u001B[0m\u001B[1;33m\u001B[0m\u001B[0m\n\u001B[1;32m---> 21\u001B[1;33m \u001B[1;32mfrom\u001B[0m \u001B[0mkeras\u001B[0m\u001B[1;33m.\u001B[0m\u001B[0mengine\u001B[0m \u001B[1;32mimport\u001B[0m \u001B[0mbase_layer\u001B[0m\u001B[1;33m\u001B[0m\u001B[1;33m\u001B[0m\u001B[0m\n\u001B[0m\u001B[0;32m     22\u001B[0m \u001B[1;32mfrom\u001B[0m \u001B[0mkeras\u001B[0m\u001B[1;33m.\u001B[0m\u001B[0mengine\u001B[0m \u001B[1;32mimport\u001B[0m \u001B[0mkeras_tensor\u001B[0m\u001B[1;33m\u001B[0m\u001B[1;33m\u001B[0m\u001B[0m\n\u001B[0;32m     23\u001B[0m \u001B[1;32mfrom\u001B[0m \u001B[0mkeras\u001B[0m\u001B[1;33m.\u001B[0m\u001B[0mengine\u001B[0m \u001B[1;32mimport\u001B[0m \u001B[0mnode\u001B[0m \u001B[1;32mas\u001B[0m \u001B[0mnode_module\u001B[0m\u001B[1;33m\u001B[0m\u001B[1;33m\u001B[0m\u001B[0m\n",
      "\u001B[1;32m~\\anaconda3\\envs\\ThesisEnv\\lib\\site-packages\\keras\\engine\\base_layer.py\u001B[0m in \u001B[0;36m<module>\u001B[1;34m\u001B[0m\n\u001B[0;32m     41\u001B[0m \u001B[1;32mfrom\u001B[0m \u001B[0mkeras\u001B[0m\u001B[1;33m.\u001B[0m\u001B[0mengine\u001B[0m \u001B[1;32mimport\u001B[0m \u001B[0mnode\u001B[0m \u001B[1;32mas\u001B[0m \u001B[0mnode_module\u001B[0m\u001B[1;33m\u001B[0m\u001B[1;33m\u001B[0m\u001B[0m\n\u001B[0;32m     42\u001B[0m \u001B[1;32mfrom\u001B[0m \u001B[0mkeras\u001B[0m\u001B[1;33m.\u001B[0m\u001B[0mmixed_precision\u001B[0m \u001B[1;32mimport\u001B[0m \u001B[0mautocast_variable\u001B[0m\u001B[1;33m\u001B[0m\u001B[1;33m\u001B[0m\u001B[0m\n\u001B[1;32m---> 43\u001B[1;33m \u001B[1;32mfrom\u001B[0m \u001B[0mkeras\u001B[0m\u001B[1;33m.\u001B[0m\u001B[0mmixed_precision\u001B[0m \u001B[1;32mimport\u001B[0m \u001B[0mloss_scale_optimizer\u001B[0m\u001B[1;33m\u001B[0m\u001B[1;33m\u001B[0m\u001B[0m\n\u001B[0m\u001B[0;32m     44\u001B[0m \u001B[1;32mfrom\u001B[0m \u001B[0mkeras\u001B[0m\u001B[1;33m.\u001B[0m\u001B[0mmixed_precision\u001B[0m \u001B[1;32mimport\u001B[0m \u001B[0mpolicy\u001B[0m\u001B[1;33m\u001B[0m\u001B[1;33m\u001B[0m\u001B[0m\n\u001B[0;32m     45\u001B[0m \u001B[1;32mfrom\u001B[0m \u001B[0mkeras\u001B[0m\u001B[1;33m.\u001B[0m\u001B[0msaving\u001B[0m\u001B[1;33m.\u001B[0m\u001B[0msaved_model\u001B[0m \u001B[1;32mimport\u001B[0m \u001B[0mlayer_serialization\u001B[0m\u001B[1;33m\u001B[0m\u001B[1;33m\u001B[0m\u001B[0m\n",
      "\u001B[1;32m~\\anaconda3\\envs\\ThesisEnv\\lib\\site-packages\\keras\\mixed_precision\\loss_scale_optimizer.py\u001B[0m in \u001B[0;36m<module>\u001B[1;34m\u001B[0m\n\u001B[0;32m     16\u001B[0m \u001B[1;33m\u001B[0m\u001B[0m\n\u001B[0;32m     17\u001B[0m \u001B[1;32mfrom\u001B[0m \u001B[0mkeras\u001B[0m \u001B[1;32mimport\u001B[0m \u001B[0mbackend\u001B[0m\u001B[1;33m\u001B[0m\u001B[1;33m\u001B[0m\u001B[0m\n\u001B[1;32m---> 18\u001B[1;33m \u001B[1;32mfrom\u001B[0m \u001B[0mkeras\u001B[0m \u001B[1;32mimport\u001B[0m \u001B[0moptimizers\u001B[0m\u001B[1;33m\u001B[0m\u001B[1;33m\u001B[0m\u001B[0m\n\u001B[0m\u001B[0;32m     19\u001B[0m \u001B[1;32mfrom\u001B[0m \u001B[0mkeras\u001B[0m\u001B[1;33m.\u001B[0m\u001B[0mmixed_precision\u001B[0m \u001B[1;32mimport\u001B[0m \u001B[0mloss_scale\u001B[0m \u001B[1;32mas\u001B[0m \u001B[0mkeras_loss_scale_module\u001B[0m\u001B[1;33m\u001B[0m\u001B[1;33m\u001B[0m\u001B[0m\n\u001B[0;32m     20\u001B[0m \u001B[1;32mfrom\u001B[0m \u001B[0mkeras\u001B[0m\u001B[1;33m.\u001B[0m\u001B[0moptimizer_v2\u001B[0m \u001B[1;32mimport\u001B[0m \u001B[0moptimizer_v2\u001B[0m\u001B[1;33m\u001B[0m\u001B[1;33m\u001B[0m\u001B[0m\n",
      "\u001B[1;32m~\\anaconda3\\envs\\ThesisEnv\\lib\\importlib\\_bootstrap.py\u001B[0m in \u001B[0;36m_find_and_load\u001B[1;34m(name, import_)\u001B[0m\n",
      "\u001B[1;32m~\\anaconda3\\envs\\ThesisEnv\\lib\\importlib\\_bootstrap.py\u001B[0m in \u001B[0;36m_find_and_load_unlocked\u001B[1;34m(name, import_)\u001B[0m\n",
      "\u001B[1;32m~\\anaconda3\\envs\\ThesisEnv\\lib\\importlib\\_bootstrap.py\u001B[0m in \u001B[0;36m_load_unlocked\u001B[1;34m(spec)\u001B[0m\n",
      "\u001B[1;32m~\\anaconda3\\envs\\ThesisEnv\\lib\\importlib\\_bootstrap_external.py\u001B[0m in \u001B[0;36mexec_module\u001B[1;34m(self, module)\u001B[0m\n",
      "\u001B[1;32m~\\anaconda3\\envs\\ThesisEnv\\lib\\importlib\\_bootstrap_external.py\u001B[0m in \u001B[0;36mget_code\u001B[1;34m(self, fullname)\u001B[0m\n",
      "\u001B[1;32m~\\anaconda3\\envs\\ThesisEnv\\lib\\importlib\\_bootstrap_external.py\u001B[0m in \u001B[0;36mget_data\u001B[1;34m(self, path)\u001B[0m\n",
      "\u001B[1;31mKeyboardInterrupt\u001B[0m: "
     ]
    }
   ],
   "source": [
    "from keras.models import model_from_json\n",
    "\n",
    "import sys\n",
    "import math\n",
    "import re\n",
    "\n",
    "import cv2\n",
    "import numpy as np"
   ],
   "metadata": {
    "collapsed": false,
    "pycharm": {
     "name": "#%%\n"
    }
   }
  },
  {
   "cell_type": "markdown",
   "source": [
    "## Global Variables"
   ],
   "metadata": {
    "collapsed": false
   }
  },
  {
   "cell_type": "code",
   "source": [
    "#For Prediction\n",
    "CLASS_LABELS = ['non-violent','violent']"
   ],
   "metadata": {
    "collapsed": false,
    "pycharm": {
     "name": "#%%\n"
    }
   },
   "execution_count": null,
   "outputs": []
  },
  {
   "cell_type": "markdown",
   "source": [
    "## Loading Model Weights"
   ],
   "metadata": {
    "collapsed": false,
    "pycharm": {
     "name": "#%% md\n"
    }
   }
  },
  {
   "cell_type": "code",
   "source": [
    "file = open(\"ViolentModel/violent_model_json\", 'r')\n",
    "model_json = file.read()\n",
    "file.close()\n",
    "\n",
    "loaded_model = model_from_json(model_json)\n",
    "loaded_model.load_weights(\"ViolentModel/violent_model_weights.h5\")"
   ],
   "metadata": {
    "collapsed": false,
    "pycharm": {
     "name": "#%%\n"
    }
   },
   "execution_count": null,
   "outputs": []
  },
  {
   "cell_type": "markdown",
   "source": [
    "## Globals & Prepare Model"
   ],
   "metadata": {
    "collapsed": false,
    "pycharm": {
     "name": "#%% md\n"
    }
   }
  },
  {
   "cell_type": "markdown",
   "source": [
    "---\n",
    "\n",
    "Object Detection\n",
    "\n",
    "---"
   ],
   "metadata": {
    "collapsed": false
   }
  },
  {
   "cell_type": "code",
   "execution_count": null,
   "outputs": [],
   "source": [
    "#Import Object Detection Model Parameters\n",
    "OBJ_config = \"Model/yolov4.cfg\"\n",
    "OBJ_weights = \"Model/yolov4.weights\"\n",
    "OBJ_class_names_file = \"Model/coco.names\"\n",
    "\n",
    "# read class names from text file\n",
    "OBJ_class_names = None\n",
    "with open(OBJ_class_names_file, 'r') as f:\n",
    "    OBJ_class_names = [line.strip() for line in f.readlines()]\n",
    "\n",
    "OBJ_threshold = 0.1"
   ],
   "metadata": {
    "collapsed": false,
    "pycharm": {
     "name": "#%%\n"
    }
   }
  },
  {
   "cell_type": "markdown",
   "source": [
    "---\n",
    "\n",
    "Object Tracking\n",
    "\n",
    "---"
   ],
   "metadata": {
    "collapsed": false,
    "pycharm": {
     "name": "#%% md\n"
    }
   }
  },
  {
   "cell_type": "code",
   "source": [
    "TRACK_list = cv2.legacy.MultiTracker_create()"
   ],
   "metadata": {
    "collapsed": false,
    "pycharm": {
     "name": "#%%\n"
    }
   },
   "execution_count": null,
   "outputs": []
  },
  {
   "cell_type": "markdown",
   "source": [
    "---\n",
    "\n",
    "Pose Estimation\n",
    "\n",
    "---"
   ],
   "metadata": {
    "collapsed": false,
    "pycharm": {
     "name": "#%% md\n"
    }
   }
  },
  {
   "cell_type": "code",
   "source": [
    "#Import Pose Estimation Model Parameters\n",
    "POSE_proto = \"Model/pose_deploy_linevec.prototxt\"\n",
    "POSE_weights = \"Model/pose_iter_440000.caffemodel\"\n",
    "\n",
    "POSE_body_parts = { \"Nose\": 0, \"Neck\": 1, \"RShoulder\": 2, \"RElbow\": 3, \"RWrist\": 4,\n",
    "               \"LShoulder\": 5, \"LElbow\": 6, \"LWrist\": 7, \"RHip\": 8, \"RKnee\": 9,\n",
    "               \"RAnkle\": 10, \"LHip\": 11, \"LKnee\": 12, \"LAnkle\": 13, \"REye\": 14,\n",
    "               \"LEye\": 15, \"REar\": 16, \"LEar\": 17, \"Background\": 18 }\n",
    "\n",
    "POSE_part_pairs = [ [\"Neck\", \"RShoulder\"], [\"Neck\", \"LShoulder\"], [\"RShoulder\", \"RElbow\"],\n",
    "               [\"RElbow\", \"RWrist\"], [\"LShoulder\", \"LElbow\"], [\"LElbow\", \"LWrist\"],\n",
    "               [\"Neck\", \"RHip\"], [\"RHip\", \"RKnee\"], [\"RKnee\", \"RAnkle\"], [\"Neck\", \"LHip\"],\n",
    "               [\"LHip\", \"LKnee\"], [\"LKnee\", \"LAnkle\"], [\"Neck\", \"Nose\"], [\"Nose\", \"REye\"],\n",
    "               [\"REye\", \"REar\"], [\"Nose\", \"LEye\"], [\"LEye\", \"LEar\"] ]\n",
    "\n",
    "POSE_threshold = 0"
   ],
   "metadata": {
    "collapsed": false,
    "pycharm": {
     "name": "#%%\n"
    }
   },
   "execution_count": null,
   "outputs": []
  },
  {
   "cell_type": "code",
   "execution_count": null,
   "outputs": [],
   "source": [
    "#Create Models\n",
    "OBJ_net = cv2.dnn.readNet(OBJ_config, OBJ_weights)\n",
    "POSE_net = cv2.dnn.readNetFromCaffe(POSE_proto, POSE_weights)\n",
    "\n",
    "#Set Models to use GPU\n",
    "OBJ_net.setPreferableBackend(cv2.dnn.DNN_BACKEND_CUDA)\n",
    "OBJ_net.setPreferableTarget(cv2.dnn.DNN_TARGET_CUDA)\n",
    "POSE_net.setPreferableBackend(cv2.dnn.DNN_BACKEND_CUDA)\n",
    "POSE_net.setPreferableTarget(cv2.dnn.DNN_TARGET_CUDA)\n"
   ],
   "metadata": {
    "collapsed": false,
    "pycharm": {
     "name": "#%%\n"
    }
   }
  },
  {
   "cell_type": "markdown",
   "source": [
    "## Prediction Video"
   ],
   "metadata": {
    "collapsed": false
   }
  },
  {
   "cell_type": "code",
   "execution_count": null,
   "outputs": [],
   "source": [
    "PREDICTION_VIDEO = \"Dataset/videos_test/violent/cam1/VideoDemo.mp4\"\n"
   ],
   "metadata": {
    "collapsed": false,
    "pycharm": {
     "name": "#%%\n"
    }
   }
  },
  {
   "cell_type": "markdown",
   "source": [
    "## Detect People"
   ],
   "metadata": {
    "collapsed": false
   }
  },
  {
   "cell_type": "code",
   "execution_count": null,
   "outputs": [],
   "source": [
    "def get_output_layers(net):\n",
    "\n",
    "    layer_names = net.getLayerNames()\n",
    "\n",
    "    output_layers = [layer_names[i - 1] for i in net.getUnconnectedOutLayers()]\n",
    "\n",
    "    return output_layers\n",
    "\n",
    "def detect_individuals_from_image(OBJ_img):\n",
    "\n",
    "    OBJ_width = OBJ_img.shape[1]\n",
    "    OBJ_height = OBJ_img.shape[0]\n",
    "    OBJ_scale = 0.00392\n",
    "\n",
    "    OBJ_blob = cv2.dnn.blobFromImage(OBJ_img, OBJ_scale, (416, 416), (0,0,0), True, crop=False)\n",
    "\n",
    "    OBJ_net.setInput(OBJ_blob)\n",
    "    outs = OBJ_net.forward(get_output_layers(OBJ_net))\n",
    "\n",
    "    # initialization\n",
    "    class_ids = []\n",
    "    confidences = []\n",
    "    boxes = []\n",
    "    nms_threshold = 0.4\n",
    "\n",
    "    # for each detection from each output layer\n",
    "    # get the confidence, class id, bounding box params\n",
    "    # and ignore weak detections (confidence < 0.5)\n",
    "    for out in outs:\n",
    "        for detection in out:\n",
    "            scores = detection[5:]\n",
    "            class_id = np.argmax(scores)\n",
    "            confidence = scores[class_id]\n",
    "            if confidence > OBJ_threshold:\n",
    "                center_x = int(detection[0] * OBJ_width)\n",
    "                center_y = int(detection[1] * OBJ_height)\n",
    "                w = int(detection[2] * OBJ_width)\n",
    "                h = int(detection[3] * OBJ_height)\n",
    "                x = center_x - w / 2\n",
    "                y = center_y - h / 2\n",
    "                class_ids.append(class_id)\n",
    "                confidences.append(float(confidence))\n",
    "                boxes.append([x, y, w, h])\n",
    "\n",
    "    #Apply non-max suppression\n",
    "    indices = cv2.dnn.NMSBoxes(boxes, confidences, OBJ_threshold, nms_threshold)\n",
    "\n",
    "    confident_people_box = []\n",
    "\n",
    "    for i in indices:\n",
    "        #Only return if detected object is a Person\n",
    "        if class_ids[i] == 0:\n",
    "            confident_people_box.append(boxes[i])\n",
    "\n",
    "    return confident_people_box"
   ],
   "metadata": {
    "collapsed": false,
    "pycharm": {
     "name": "#%%\n"
    }
   }
  },
  {
   "cell_type": "markdown",
   "source": [
    "## Track People"
   ],
   "metadata": {
    "collapsed": false
   }
  },
  {
   "cell_type": "code",
   "execution_count": null,
   "outputs": [],
   "source": [
    "def start_tracking_from_boxes(TRACK_BBoxes, TRACK_img):\n",
    "\n",
    "    #New Empty Track list\n",
    "    new_TRACK_list = cv2.legacy.MultiTracker_create()\n",
    "\n",
    "    #Fill new Track list with the new Bounding boxes\n",
    "    for TRACK_box in TRACK_BBoxes:\n",
    "\n",
    "        tracker = cv2.legacy.TrackerCSRT_create()\n",
    "        new_TRACK_list.add(tracker, TRACK_img, TRACK_box)\n",
    "\n",
    "    global TRACK_list\n",
    "    TRACK_list = new_TRACK_list\n",
    "\n",
    "def track_using_trackers(TRACK_img, FINAL_img):\n",
    "\n",
    "    global TRACK_list\n",
    "\n",
    "    # grab the updated bounding box coordinates (if any) for each object that is being tracked\n",
    "    (success, TRACK_boxes) = TRACK_list.update(TRACK_img)\n",
    "\n",
    "def expand_tracking_box(image, FINAL_img):\n",
    "\n",
    "    global TRACK_list\n",
    "    TRACK_boxes = TRACK_list.getObjects()\n",
    "    TRACK_expanded_boxes = [[] for i in range(len(TRACK_boxes))]\n",
    "\n",
    "    new_OBJ_boxes = detect_individuals_from_image(image)\n",
    "\n",
    "    #Take account of tracking boxes\n",
    "    for TRACK_box_i in range(len(TRACK_boxes)):\n",
    "        b_box = TRACK_boxes[TRACK_box_i]\n",
    "        TRACK_expanded_boxes[TRACK_box_i].append((int(b_box[0]),int(b_box[1]),int(b_box[2]),int(b_box[3])))\n",
    "\n",
    "    #Take account new object detection boxes\n",
    "    for OBJ_box_i in range(len(new_OBJ_boxes)):\n",
    "        new_OBJ_Center = get_center_of_box(new_OBJ_boxes[OBJ_box_i])\n",
    "\n",
    "        distance = sys.maxsize\n",
    "        trackerIndex = -1\n",
    "\n",
    "        for TRACK_box_i in range(len(TRACK_boxes)):\n",
    "            curr_TRACK_Center = get_center_of_box(TRACK_boxes[TRACK_box_i])\n",
    "\n",
    "            curr_distance = math.dist(curr_TRACK_Center, new_OBJ_Center)\n",
    "\n",
    "            if curr_distance < distance:\n",
    "                distance = curr_distance\n",
    "                trackerIndex = TRACK_box_i\n",
    "\n",
    "        b_box = new_OBJ_boxes[OBJ_box_i]\n",
    "        TRACK_expanded_boxes[trackerIndex].append((int(b_box[0]),int(b_box[1]),int(b_box[2]),int(b_box[3])))\n",
    "\n",
    "    return TRACK_expanded_boxes\n",
    "\n",
    "def get_center_of_box(boundingBox):\n",
    "\n",
    "    boundingBox_Xcenter = int((boundingBox[0] + (boundingBox[0] + boundingBox[2])) / 2)\n",
    "    boundingBox_Ycenter = int((boundingBox[1] + (boundingBox[1] + boundingBox[3])) / 2)\n",
    "\n",
    "    return(boundingBox_Xcenter, boundingBox_Ycenter)"
   ],
   "metadata": {
    "collapsed": false,
    "pycharm": {
     "name": "#%%\n"
    }
   }
  },
  {
   "cell_type": "markdown",
   "source": [
    "## Estimate Human Poses"
   ],
   "metadata": {
    "collapsed": false,
    "pycharm": {
     "name": "#%% md\n"
    }
   }
  },
  {
   "cell_type": "code",
   "execution_count": null,
   "outputs": [],
   "source": [
    "def seperate_person(person_BB, image, finalImage):\n",
    "\n",
    "    POSE_IMG = np.zeros(finalImage.shape, dtype=np.uint8)\n",
    "\n",
    "    for curr_BB in person_BB:\n",
    "\n",
    "        tl = curr_BB[0]\n",
    "        tr = curr_BB[0]+curr_BB[2]\n",
    "        bl = curr_BB[1]\n",
    "        br = curr_BB[1]+curr_BB[3]\n",
    "\n",
    "        #Seperate each product/contour into a new image by cropping the image to the bounding box of the product\n",
    "        POSE_IMG[bl:br, tl:tr] = image[bl:br, tl:tr]\n",
    "\n",
    "    return POSE_IMG\n",
    "\n",
    "def get_human_pose_from_img(POSE_img_box, FINAL_img):\n",
    "\n",
    "    IMG_HEIGHT = POSE_img_box.shape[0]\n",
    "    IMG_WIDTH = POSE_img_box.shape[1]\n",
    "\n",
    "    #Resize for prediction\n",
    "    BLOB_HEIGHT=368\n",
    "    BLOB_WIDTH=int((BLOB_HEIGHT/IMG_HEIGHT)*IMG_WIDTH)\n",
    "\n",
    "    # Use the given image as input, which needs to be blob(s).\n",
    "    imgBlob = cv2.dnn.blobFromImage(POSE_img_box, 1.0/255, (BLOB_WIDTH, BLOB_HEIGHT), (0,0,0), swapRB=True, crop=False)\n",
    "    POSE_net.setInput(imgBlob)\n",
    "\n",
    "    # Runs a forward pass to compute the POSE_MODEL output\n",
    "    out = POSE_net.forward()\n",
    "    # MobilePOSE_MODEL output [1, 57, -1, -1], we only need the first 19 elements\n",
    "    out = out[:, :19, :, :]\n",
    "\n",
    "    assert(len(POSE_body_parts) == out.shape[1])\n",
    "\n",
    "    points = []\n",
    "    for i in range(len(POSE_body_parts)):\n",
    "        # Slice heatmap of corresponding body's part.\n",
    "        heatMap = out[0, i, :, :]\n",
    "\n",
    "        # Originally, we try to find all the local maximums. To simplify a sample\n",
    "        # we just find a global one. However only a single pose at the same time\n",
    "        # could be detected this way.\n",
    "        _, conf, _, point = cv2.minMaxLoc(heatMap)\n",
    "        x = (IMG_WIDTH * point[0]) / out.shape[3]\n",
    "        y = (IMG_HEIGHT * point[1]) / out.shape[2]\n",
    "        # Add a point if it's confidence is higher than THRESHOLD.\n",
    "        points.append((int(x), int(y)) if conf > POSE_threshold else None)\n",
    "\n",
    "    for pair in POSE_part_pairs:\n",
    "        partFrom = pair[0]\n",
    "        partTo = pair[1]\n",
    "        assert(partFrom in POSE_body_parts)\n",
    "        assert(partTo in POSE_body_parts)\n",
    "\n",
    "        idFrom = POSE_body_parts[partFrom]\n",
    "        idTo = POSE_body_parts[partTo]\n",
    "\n",
    "        if points[idFrom] and points[idTo]:\n",
    "            cv2.line(FINAL_img, points[idFrom], points[idTo], (0, 255, 0), 3)\n",
    "            cv2.ellipse(FINAL_img, points[idFrom], (3, 3), 0, 0, 360, (0, 0, 255), cv2.FILLED)\n",
    "            cv2.ellipse(FINAL_img, points[idTo], (3, 3), 0, 0, 360, (0, 0, 255), cv2.FILLED)\n",
    "\n",
    "    return points"
   ],
   "metadata": {
    "collapsed": false,
    "pycharm": {
     "name": "#%%\n"
    }
   }
  },
  {
   "cell_type": "markdown",
   "source": [
    "## Predict Violent Behaviour"
   ],
   "metadata": {
    "collapsed": false
   }
  },
  {
   "cell_type": "code",
   "execution_count": null,
   "outputs": [],
   "source": [
    "def PredictViolentBehaviour(person_id, pred_keypoints, FINAL_img):\n",
    "\n",
    "    TRACK_boxes = TRACK_list.getObjects()\n",
    "\n",
    "    curr_action_keys = np.array(pred_keypoints[person_id][-3:])\n",
    "\n",
    "    curr_action_keys = augment_data(curr_action_keys)\n",
    "\n",
    "    curr_action_keys = FormatData(curr_action_keys)\n",
    "\n",
    "    #Predict using curr_action_keys\n",
    "    predictions = loaded_model.predict(curr_action_keys)\n",
    "\n",
    "    print(predictions)\n",
    "\n",
    "    pred_class_1 = []\n",
    "\n",
    "    for x in predictions:\n",
    "        if x == 1:\n",
    "            pred_class_1.append(1)\n",
    "        else:\n",
    "            pred_class_1.append(0)\n",
    "\n",
    "    if pred_class_1[0] == 1:\n",
    "        pred_class = \"Violent\"\n",
    "        pred_color = (0,0,255)\n",
    "    else:\n",
    "        pred_class = \"Non-Violent\"\n",
    "        pred_color = (0,255,0)\n",
    "\n",
    "    x = int(TRACK_boxes[person_id][0])\n",
    "    y = int(TRACK_boxes[person_id][1])\n",
    "    w = int(TRACK_boxes[person_id][2])\n",
    "    h = int(TRACK_boxes[person_id][3])\n",
    "\n",
    "    cv2.rectangle(FINAL_img, (x,y), (x+w,y+h), pred_color, 2)\n",
    "    cv2.putText(FINAL_img, pred_class, (x+10,y-10), cv2.FONT_HERSHEY_SIMPLEX, 0.5, pred_color, 2)\n"
   ],
   "metadata": {
    "collapsed": false,
    "pycharm": {
     "name": "#%%\n"
    }
   }
  },
  {
   "cell_type": "markdown",
   "source": [
    "## Prepare Data"
   ],
   "metadata": {
    "collapsed": false
   }
  },
  {
   "cell_type": "code",
   "execution_count": null,
   "outputs": [],
   "source": [
    "def augment_data(coord_loc_list):\n",
    "\n",
    "    print(coord_loc_list)\n",
    "    try:\n",
    "        for frame_keypoints in range(len(coord_loc_list)):\n",
    "            for spec_keypoint in range(len(coord_loc_list[frame_keypoints])):\n",
    "                if coord_loc_list[frame_keypoints][spec_keypoint] == None:\n",
    "                    coord_loc_list[frame_keypoints][spec_keypoint] = (0,0)\n",
    "    except:\n",
    "        print(\"no Nones\")\n",
    "    return coord_loc_list"
   ],
   "metadata": {
    "collapsed": false,
    "pycharm": {
     "name": "#%%\n"
    }
   }
  },
  {
   "cell_type": "markdown",
   "source": [
    "##"
   ],
   "metadata": {
    "collapsed": false
   }
  },
  {
   "cell_type": "code",
   "execution_count": null,
   "outputs": [],
   "source": [
    "def FormatData(coord_loc_list):\n",
    "\n",
    "    predict_list = []\n",
    "    list_output_keypoints = []\n",
    "\n",
    "    for joint in range(19):\n",
    "        for frame in range(3):\n",
    "            for coord_count in range(2):\n",
    "                list_output_keypoints.append(coord_loc_list[frame][joint][coord_count])\n",
    "\n",
    "    predict_list.append(list_output_keypoints)\n",
    "\n",
    "    predict_list = np.array(predict_list)\n",
    "\n",
    "    predict_list = np.reshape(predict_list, (predict_list.shape[0],19,3,2)).swapaxes(2,3)\n",
    "\n",
    "    return predict_list"
   ],
   "metadata": {
    "collapsed": false,
    "pycharm": {
     "name": "#%%\n"
    }
   }
  },
  {
   "cell_type": "markdown",
   "source": [
    "## Main Pipeline"
   ],
   "metadata": {
    "collapsed": false,
    "pycharm": {
     "name": "#%% md\n"
    }
   }
  },
  {
   "cell_type": "code",
   "execution_count": null,
   "outputs": [],
   "source": [
    "def DataPrediction(VIDEO_LOC):\n",
    "\n",
    "    frameCount = 0\n",
    "    OBJ_boxes = []\n",
    "    poseLoc = []\n",
    "\n",
    "    #Initialize the video stream\n",
    "    MEDIA_RAW = cv2.VideoCapture(VIDEO_LOC)\n",
    "\n",
    "    #Loop over the frames from the video stream\n",
    "    while cv2.waitKey(1) < 0:\n",
    "\n",
    "        #Grab the frame from the threaded video stream\n",
    "        hasFrame, image = MEDIA_RAW.read()\n",
    "\n",
    "        if not hasFrame:\n",
    "            cv2.waitKey()\n",
    "            cv2.destroyAllWindows()\n",
    "            break\n",
    "\n",
    "        finalImage = image.copy()\n",
    "        frameCount += 1\n",
    "\n",
    "        #Only Detect and Track People in the first frame\n",
    "        if frameCount == 1:\n",
    "            #Detect People in Image and return their Boxes Position\n",
    "            OBJ_boxes = detect_individuals_from_image(image)\n",
    "            #Pass Bounding boxes to Tracker to start tracking\n",
    "            start_tracking_from_boxes(OBJ_boxes, image)\n",
    "            #Prepare Pose Save Locations\n",
    "            poseLoc = [[] for i in range(len(OBJ_boxes))]\n",
    "\n",
    "        #Sync trackers with new frame\n",
    "        track_using_trackers(image, finalImage)\n",
    "\n",
    "        #Expand tracker bounding box with more accurate bounding boxes\n",
    "        POSE_EST_LOC = expand_tracking_box(image, finalImage)\n",
    "\n",
    "        #Apply Pose Estimation in Bounding Boxes of every person\n",
    "        for person_BBs_i in range(len(POSE_EST_LOC)):\n",
    "\n",
    "            #Create Image focusing on a single person\n",
    "            POSE_IMG = seperate_person(POSE_EST_LOC[person_BBs_i], image, finalImage)\n",
    "\n",
    "            #Estimate Pose on a single person\n",
    "            poseLoc[person_BBs_i].append(get_human_pose_from_img(POSE_IMG, finalImage))\n",
    "\n",
    "            #Predict\n",
    "            if(frameCount >= 3):\n",
    "                PredictViolentBehaviour(person_BBs_i, poseLoc, finalImage)\n",
    "\n",
    "        #Resize for better output\n",
    "        finalImage = cv2.resize(finalImage, (int((700/finalImage.shape[0])*finalImage.shape[1]),700))\n",
    "\n",
    "        #show the output frame\n",
    "        cv2.imshow(VIDEO_LOC, finalImage)\n",
    "\n",
    "        cv2.imwrite(\"Output/frame\"+str(frameCount)+\".png\", finalImage)\n",
    "\n",
    "    #Stop any videos\n",
    "    MEDIA_RAW.release()\n",
    "\n",
    "    #Close all windows\n",
    "    cv2.destroyAllWindows()"
   ],
   "metadata": {
    "collapsed": false,
    "pycharm": {
     "name": "#%%\n"
    }
   }
  },
  {
   "cell_type": "markdown",
   "source": [
    "## Main Method"
   ],
   "metadata": {
    "collapsed": false
   }
  },
  {
   "cell_type": "code",
   "execution_count": null,
   "outputs": [],
   "source": [
    "DataPrediction(PREDICTION_VIDEO)"
   ],
   "metadata": {
    "collapsed": false,
    "pycharm": {
     "name": "#%%\n"
    }
   }
  }
 ],
 "metadata": {
  "kernelspec": {
   "display_name": "Python 3",
   "language": "python",
   "name": "python3"
  },
  "language_info": {
   "codemirror_mode": {
    "name": "ipython",
    "version": 2
   },
   "file_extension": ".py",
   "mimetype": "text/x-python",
   "name": "python",
   "nbconvert_exporter": "python",
   "pygments_lexer": "ipython2",
   "version": "2.7.6"
  }
 },
 "nbformat": 4,
 "nbformat_minor": 0
}