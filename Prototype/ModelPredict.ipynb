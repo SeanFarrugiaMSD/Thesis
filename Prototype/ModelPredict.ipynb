{
 "cells": [
  {
   "cell_type": "markdown",
   "source": [
    "## Imports"
   ],
   "metadata": {
    "collapsed": false
   }
  },
  {
   "cell_type": "code",
   "execution_count": null,
   "outputs": [],
   "source": [
    "import numpy as np\n",
    "import keras as k\n",
    "import tkinter as tk\n",
    "from keras.models import model_from_json\n",
    "from tkinter.filedialog import askopenfilename\n",
    "from PIL import ImageTk,Image"
   ],
   "metadata": {
    "collapsed": false,
    "pycharm": {
     "name": "#%%\n"
    }
   }
  },
  {
   "cell_type": "markdown",
   "source": [
    "## Global Variables"
   ],
   "metadata": {
    "collapsed": false
   }
  },
  {
   "cell_type": "code",
   "execution_count": null,
   "outputs": [],
   "source": [
    "#For Prediction\n",
    "CLASS_LABELS = ['non-violent','violent']"
   ],
   "metadata": {
    "collapsed": false,
    "pycharm": {
     "name": "#%%\n"
    }
   }
  },
  {
   "cell_type": "markdown",
   "source": [
    "## Loading Model Weights"
   ],
   "metadata": {
    "collapsed": false
   }
  },
  {
   "cell_type": "code",
   "execution_count": null,
   "outputs": [],
   "source": [
    "file = open(\"ViolentModel/violent_model_json\", 'r')\n",
    "model_json = file.read()\n",
    "file.close()\n",
    "\n",
    "loaded_model = model_from_json(model_json)\n",
    "loaded_model.load_weights(\"ViolentModel/violent_model_weights.h5\")"
   ],
   "metadata": {
    "collapsed": false,
    "pycharm": {
     "name": "#%%\n"
    }
   }
  },
  {
   "cell_type": "markdown",
   "source": [
    "## Globals & Prepare Model"
   ],
   "metadata": {
    "collapsed": false
   }
  },
  {
   "cell_type": "markdown",
   "source": [
    "---\n",
    "\n",
    "Object Detection\n",
    "\n",
    "---"
   ],
   "metadata": {
    "collapsed": false
   }
  },
  {
   "cell_type": "code",
   "execution_count": null,
   "outputs": [],
   "source": [
    "#Import Object Detection Model Parameters\n",
    "OBJ_config = \"Model/yolov4.cfg\"\n",
    "OBJ_weights = \"Model/yolov4.weights\"\n",
    "OBJ_class_names_file = \"Model/coco.names\"\n",
    "\n",
    "# read class names from text file\n",
    "OBJ_class_names = None\n",
    "with open(OBJ_class_names_file, 'r') as f:\n",
    "    OBJ_class_names = [line.strip() for line in f.readlines()]\n",
    "\n",
    "OBJ_threshold = 0.1"
   ],
   "metadata": {
    "collapsed": false,
    "pycharm": {
     "name": "#%%\n"
    }
   }
  },
  {
   "cell_type": "markdown",
   "source": [
    "---\n",
    "\n",
    "Object Tracking\n",
    "\n",
    "---"
   ],
   "metadata": {
    "collapsed": false
   }
  },
  {
   "cell_type": "code",
   "execution_count": null,
   "outputs": [],
   "source": [
    "TRACK_list = cv2.legacy.MultiTracker_create()"
   ],
   "metadata": {
    "collapsed": false,
    "pycharm": {
     "name": "#%%\n"
    }
   }
  },
  {
   "cell_type": "markdown",
   "source": [
    "---\n",
    "\n",
    "Pose Estimation\n",
    "\n",
    "---"
   ],
   "metadata": {
    "collapsed": false
   }
  },
  {
   "cell_type": "code",
   "execution_count": null,
   "outputs": [],
   "source": [
    "#Import Pose Estimation Model Parameters\n",
    "POSE_proto = \"Model/pose_deploy_linevec.prototxt\"\n",
    "POSE_weights = \"Model/pose_iter_440000.caffemodel\"\n",
    "\n",
    "POSE_body_parts = { \"Nose\": 0, \"Neck\": 1, \"RShoulder\": 2, \"RElbow\": 3, \"RWrist\": 4,\n",
    "               \"LShoulder\": 5, \"LElbow\": 6, \"LWrist\": 7, \"RHip\": 8, \"RKnee\": 9,\n",
    "               \"RAnkle\": 10, \"LHip\": 11, \"LKnee\": 12, \"LAnkle\": 13, \"REye\": 14,\n",
    "               \"LEye\": 15, \"REar\": 16, \"LEar\": 17, \"Background\": 18 }\n",
    "\n",
    "POSE_part_pairs = [ [\"Neck\", \"RShoulder\"], [\"Neck\", \"LShoulder\"], [\"RShoulder\", \"RElbow\"],\n",
    "               [\"RElbow\", \"RWrist\"], [\"LShoulder\", \"LElbow\"], [\"LElbow\", \"LWrist\"],\n",
    "               [\"Neck\", \"RHip\"], [\"RHip\", \"RKnee\"], [\"RKnee\", \"RAnkle\"], [\"Neck\", \"LHip\"],\n",
    "               [\"LHip\", \"LKnee\"], [\"LKnee\", \"LAnkle\"], [\"Neck\", \"Nose\"], [\"Nose\", \"REye\"],\n",
    "               [\"REye\", \"REar\"], [\"Nose\", \"LEye\"], [\"LEye\", \"LEar\"] ]\n",
    "\n",
    "POSE_threshold = 0.1"
   ],
   "metadata": {
    "collapsed": false,
    "pycharm": {
     "name": "#%%\n"
    }
   }
  },
  {
   "cell_type": "code",
   "execution_count": null,
   "outputs": [],
   "source": [
    "#Create Models\n",
    "OBJ_net = cv2.dnn.readNet(OBJ_config, OBJ_weights)\n",
    "POSE_net = cv2.dnn.readNetFromCaffe(POSE_proto, POSE_weights)\n",
    "\n",
    "#Set Models to use GPU\n",
    "OBJ_net.setPreferableBackend(cv2.dnn.DNN_BACKEND_CUDA)\n",
    "OBJ_net.setPreferableTarget(cv2.dnn.DNN_TARGET_CUDA)\n",
    "POSE_net.setPreferableBackend(cv2.dnn.DNN_BACKEND_CUDA)\n",
    "POSE_net.setPreferableTarget(cv2.dnn.DNN_TARGET_CUDA)\n"
   ],
   "metadata": {
    "collapsed": false,
    "pycharm": {
     "name": "#%%\n"
    }
   }
  },
  {
   "cell_type": "markdown",
   "source": [
    "## Prediction Video"
   ],
   "metadata": {
    "collapsed": false
   }
  },
  {
   "cell_type": "code",
   "execution_count": null,
   "outputs": [],
   "source": [
    "PREDICTION_VIDEO = \"Dataset/videos_test/violent/cam1/VideoDemo.mp4\"\n"
   ],
   "metadata": {
    "collapsed": false,
    "pycharm": {
     "name": "#%%\n"
    }
   }
  },
  {
   "cell_type": "markdown",
   "source": [
    "## Detect People"
   ],
   "metadata": {
    "collapsed": false
   }
  },
  {
   "cell_type": "code",
   "execution_count": null,
   "outputs": [],
   "source": [
    "def get_output_layers(net):\n",
    "\n",
    "    layer_names = net.getLayerNames()\n",
    "\n",
    "    output_layers = [layer_names[i - 1] for i in net.getUnconnectedOutLayers()]\n",
    "\n",
    "    return output_layers\n",
    "\n",
    "def detect_individuals_from_image(OBJ_img):\n",
    "\n",
    "    OBJ_width = OBJ_img.shape[1]\n",
    "    OBJ_height = OBJ_img.shape[0]\n",
    "    OBJ_scale = 0.00392\n",
    "\n",
    "    OBJ_blob = cv2.dnn.blobFromImage(OBJ_img, OBJ_scale, (416, 416), (0,0,0), True, crop=False)\n",
    "\n",
    "    OBJ_net.setInput(OBJ_blob)\n",
    "    outs = OBJ_net.forward(get_output_layers(OBJ_net))\n",
    "\n",
    "    # initialization\n",
    "    class_ids = []\n",
    "    confidences = []\n",
    "    boxes = []\n",
    "    nms_threshold = 0.4\n",
    "\n",
    "    # for each detection from each output layer\n",
    "    # get the confidence, class id, bounding box params\n",
    "    # and ignore weak detections (confidence < 0.5)\n",
    "    for out in outs:\n",
    "        for detection in out:\n",
    "            scores = detection[5:]\n",
    "            class_id = np.argmax(scores)\n",
    "            confidence = scores[class_id]\n",
    "            if confidence > OBJ_threshold:\n",
    "                center_x = int(detection[0] * OBJ_width)\n",
    "                center_y = int(detection[1] * OBJ_height)\n",
    "                w = int(detection[2] * OBJ_width)\n",
    "                h = int(detection[3] * OBJ_height)\n",
    "                x = center_x - w / 2\n",
    "                y = center_y - h / 2\n",
    "                class_ids.append(class_id)\n",
    "                confidences.append(float(confidence))\n",
    "                boxes.append([x, y, w, h])\n",
    "\n",
    "    #Apply non-max suppression\n",
    "    indices = cv2.dnn.NMSBoxes(boxes, confidences, OBJ_threshold, nms_threshold)\n",
    "\n",
    "    confident_people_box = []\n",
    "\n",
    "    for i in indices:\n",
    "        #Only return if detected object is a Person\n",
    "        if class_ids[i] == 0:\n",
    "            confident_people_box.append(boxes[i])\n",
    "\n",
    "    return confident_people_box"
   ],
   "metadata": {
    "collapsed": false,
    "pycharm": {
     "name": "#%%\n"
    }
   }
  },
  {
   "cell_type": "markdown",
   "source": [
    "## Track People"
   ],
   "metadata": {
    "collapsed": false
   }
  },
  {
   "cell_type": "code",
   "execution_count": null,
   "outputs": [],
   "source": [
    "def start_tracking_from_boxes(TRACK_BBoxes, TRACK_img):\n",
    "\n",
    "    #New Empty Track list\n",
    "    new_TRACK_list = cv2.legacy.MultiTracker_create()\n",
    "\n",
    "    #Fill new Track list with the new Bounding boxes\n",
    "    for TRACK_box in TRACK_BBoxes:\n",
    "\n",
    "        tracker = cv2.legacy.TrackerCSRT_create()\n",
    "        new_TRACK_list.add(tracker, TRACK_img, TRACK_box)\n",
    "\n",
    "    global TRACK_list\n",
    "    TRACK_list = new_TRACK_list\n",
    "\n",
    "def track_using_trackers(TRACK_img, FINAL_img):\n",
    "\n",
    "    global TRACK_list\n",
    "\n",
    "    # grab the updated bounding box coordinates (if any) for each object that is being tracked\n",
    "    (success, TRACK_boxes) = TRACK_list.update(TRACK_img)\n",
    "\n",
    "def expand_tracking_box(image, FINAL_img):\n",
    "\n",
    "    global TRACK_list\n",
    "    TRACK_boxes = TRACK_list.getObjects()\n",
    "    TRACK_expanded_boxes = [[] for i in range(len(TRACK_boxes))]\n",
    "\n",
    "    new_OBJ_boxes = detect_individuals_from_image(image)\n",
    "\n",
    "    # loop over the bounding boxes and draw them on the frame\n",
    "    for ibox in range(len(TRACK_boxes)):\n",
    "\n",
    "        x = int(TRACK_boxes[ibox][0])\n",
    "        y = int(TRACK_boxes[ibox][1])\n",
    "        w = int(TRACK_boxes[ibox][2])\n",
    "        h = int(TRACK_boxes[ibox][3])\n",
    "\n",
    "        cv2.rectangle(FINAL_img, (x,y), (x+w,y+h), (0,0,0), 2)\n",
    "        cv2.putText(FINAL_img, str(ibox), (x+10,y+10), cv2.FONT_HERSHEY_SIMPLEX, 0.5, (0,0,255), 2)\n",
    "\n",
    "    #Take account of tracking boxes\n",
    "    for TRACK_box_i in range(len(TRACK_boxes)):\n",
    "        b_box = TRACK_boxes[TRACK_box_i]\n",
    "        TRACK_expanded_boxes[TRACK_box_i].append((int(b_box[0]),int(b_box[1]),int(b_box[2]),int(b_box[3])))\n",
    "\n",
    "    #Take account new object detection boxes\n",
    "    for OBJ_box_i in range(len(new_OBJ_boxes)):\n",
    "        new_OBJ_Center = get_center_of_box(new_OBJ_boxes[OBJ_box_i])\n",
    "\n",
    "        distance = sys.maxsize\n",
    "        trackerIndex = -1\n",
    "\n",
    "        for TRACK_box_i in range(len(TRACK_boxes)):\n",
    "            curr_TRACK_Center = get_center_of_box(TRACK_boxes[TRACK_box_i])\n",
    "\n",
    "            curr_distance = math.dist(curr_TRACK_Center, new_OBJ_Center)\n",
    "\n",
    "            if curr_distance < distance:\n",
    "                distance = curr_distance\n",
    "                trackerIndex = TRACK_box_i\n",
    "\n",
    "        b_box = new_OBJ_boxes[OBJ_box_i]\n",
    "        TRACK_expanded_boxes[trackerIndex].append((int(b_box[0]),int(b_box[1]),int(b_box[2]),int(b_box[3])))\n",
    "\n",
    "    return TRACK_expanded_boxes\n",
    "\n",
    "def get_center_of_box(boundingBox):\n",
    "\n",
    "    boundingBox_Xcenter = int((boundingBox[0] + (boundingBox[0] + boundingBox[2])) / 2)\n",
    "    boundingBox_Ycenter = int((boundingBox[1] + (boundingBox[1] + boundingBox[3])) / 2)\n",
    "\n",
    "    return(boundingBox_Xcenter, boundingBox_Ycenter)"
   ],
   "metadata": {
    "collapsed": false,
    "pycharm": {
     "name": "#%%\n"
    }
   }
  },
  {
   "cell_type": "markdown",
   "source": [
    "## Estimate Human Poses"
   ],
   "metadata": {
    "collapsed": false
   }
  },
  {
   "cell_type": "code",
   "execution_count": null,
   "outputs": [],
   "source": [
    "def seperate_person(person_BB, image, finalImage):\n",
    "\n",
    "    POSE_IMG = np.zeros(finalImage.shape, dtype=np.uint8)\n",
    "\n",
    "    for curr_BB in person_BB:\n",
    "\n",
    "        tl = curr_BB[0]\n",
    "        tr = curr_BB[0]+curr_BB[2]\n",
    "        bl = curr_BB[1]\n",
    "        br = curr_BB[1]+curr_BB[3]\n",
    "\n",
    "        #Seperate each product/contour into a new image by cropping the image to the bounding box of the product\n",
    "        POSE_IMG[bl:br, tl:tr] = image[bl:br, tl:tr]\n",
    "\n",
    "    return POSE_IMG\n",
    "\n",
    "def get_human_pose_from_img(POSE_img_box, FINAL_img):\n",
    "\n",
    "    IMG_HEIGHT = POSE_img_box.shape[0]\n",
    "    IMG_WIDTH = POSE_img_box.shape[1]\n",
    "\n",
    "    #Resize for prediction\n",
    "    BLOB_HEIGHT=368\n",
    "    BLOB_WIDTH=int((BLOB_HEIGHT/IMG_HEIGHT)*IMG_WIDTH)\n",
    "\n",
    "    # Use the given image as input, which needs to be blob(s).\n",
    "    imgBlob = cv2.dnn.blobFromImage(POSE_img_box, 1.0/255, (BLOB_WIDTH, BLOB_HEIGHT), (0,0,0), swapRB=True, crop=False)\n",
    "    POSE_net.setInput(imgBlob)\n",
    "\n",
    "    # Runs a forward pass to compute the POSE_MODEL output\n",
    "    out = POSE_net.forward()\n",
    "    # MobilePOSE_MODEL output [1, 57, -1, -1], we only need the first 19 elements\n",
    "    out = out[:, :19, :, :]\n",
    "\n",
    "    assert(len(POSE_body_parts) == out.shape[1])\n",
    "\n",
    "    points = []\n",
    "    for i in range(len(POSE_body_parts)):\n",
    "        # Slice heatmap of corresponding body's part.\n",
    "        heatMap = out[0, i, :, :]\n",
    "\n",
    "        # Originally, we try to find all the local maximums. To simplify a sample\n",
    "        # we just find a global one. However only a single pose at the same time\n",
    "        # could be detected this way.\n",
    "        _, conf, _, point = cv2.minMaxLoc(heatMap)\n",
    "        x = (IMG_WIDTH * point[0]) / out.shape[3]\n",
    "        y = (IMG_HEIGHT * point[1]) / out.shape[2]\n",
    "        # Add a point if it's confidence is higher than THRESHOLD.\n",
    "        points.append((int(x), int(y)) if conf > POSE_threshold else None)\n",
    "\n",
    "    for pair in POSE_part_pairs:\n",
    "        partFrom = pair[0]\n",
    "        partTo = pair[1]\n",
    "        assert(partFrom in POSE_body_parts)\n",
    "        assert(partTo in POSE_body_parts)\n",
    "\n",
    "        idFrom = POSE_body_parts[partFrom]\n",
    "        idTo = POSE_body_parts[partTo]\n",
    "\n",
    "        if points[idFrom] and points[idTo]:\n",
    "            cv2.line(FINAL_img, points[idFrom], points[idTo], (0, 255, 0), 3)\n",
    "            cv2.ellipse(FINAL_img, points[idFrom], (3, 3), 0, 0, 360, (0, 0, 255), cv2.FILLED)\n",
    "            cv2.ellipse(FINAL_img, points[idTo], (3, 3), 0, 0, 360, (0, 0, 255), cv2.FILLED)\n",
    "\n",
    "    return points\n"
   ],
   "metadata": {
    "collapsed": false,
    "pycharm": {
     "name": "#%%\n"
    }
   }
  },
  {
   "cell_type": "markdown",
   "source": [
    "## Prepare Data"
   ],
   "metadata": {
    "collapsed": false
   }
  },
  {
   "cell_type": "code",
   "execution_count": null,
   "outputs": [],
   "source": [
    "def augment_data(coord_loc_list):\n",
    "\n",
    "    for person in range(len(coord_loc_list)):\n",
    "            for frame_keypoints in range(len(coord_loc_list[person])):\n",
    "                for spec_keypoint in range(len(coord_loc_list[person][frame_keypoints])):\n",
    "                    if coord_loc_list[person][frame_keypoints][spec_keypoint] == None:\n",
    "                        coord_loc_list[person][frame_keypoints][spec_keypoint] = (0,0)"
   ],
   "metadata": {
    "collapsed": false,
    "pycharm": {
     "name": "#%%\n"
    }
   }
  },
  {
   "cell_type": "markdown",
   "source": [
    "## Export to CSV"
   ],
   "metadata": {
    "collapsed": false
   }
  },
  {
   "cell_type": "code",
   "execution_count": null,
   "outputs": [],
   "source": [
    "def export_to_csv(keypoints_list):\n",
    "\n",
    "    global check_var_list\n",
    "\n",
    "    sorted_List = keypoints_list.copy()\n",
    "\n",
    "    List_columns = [\n",
    "                    \"Action\",\n",
    "                    \"Nose_X_1\", \"Nose_Y_1\", \"Nose_X_2\", \"Nose_Y_2\", \"Nose_X_3\", \"Nose_Y_3\",\n",
    "                    \"Neck_X_1\", \"Neck_Y_1\", \"Neck_X_2\", \"Neck_Y_2\", \"Neck_X_3\", \"Neck_Y_3\",\n",
    "                    \"RShoulder_X_1\", \"RShoulder_Y_1\", \"RShoulder_X_2\", \"RShoulder_Y_2\", \"RShoulder_X_3\", \"RShoulder_Y_3\",\n",
    "                    \"RElbow_X_1\", \"RElbow_Y_1\", \"RElbow_X_2\", \"RElbow_Y_2\", \"RElbow_X_3\", \"RElbow_Y_3\",\n",
    "                    \"RWrist_X_1\", \"RWrist_Y_1\", \"RWrist_X_2\", \"RWrist_Y_2\", \"RWrist_X_3\", \"RWrist_Y_3\",\n",
    "                    \"LShoulder_X_1\", \"LShoulder_Y_1\", \"LShoulder_X_2\", \"LShoulder_Y_2\", \"LShoulder_X_3\", \"LShoulder_Y_3\",\n",
    "                    \"LElbow_X_1\", \"LElbow_Y_1\", \"LElbow_X_2\", \"LElbow_Y_2\", \"LElbow_X_3\", \"LElbow_Y_3\",\n",
    "                    \"LWrist_X_1\", \"LWrist_Y_1\", \"LWrist_X_2\", \"LWrist_Y_2\", \"LWrist_X_3\", \"LWrist_Y_3\",\n",
    "                    \"RHip_X_1\", \"RHip_Y_1\", \"RHip_X_2\", \"RHip_Y_2\", \"RHip_X_3\", \"RHip_Y_3\",\n",
    "                    \"RKnee_X_1\", \"RKnee_Y_1\", \"RKnee_X_2\", \"RKnee_Y_2\", \"RKnee_X_3\", \"RKnee_Y_3\",\n",
    "                    \"RAnkle_X_1\", \"RAnkle_Y_1\", \"RAnkle_X_2\", \"RAnkle_Y_2\", \"RAnkle_X_3\", \"RAnkle_Y_3\",\n",
    "                    \"LHip_X_1\", \"LHip_Y_1\", \"LHip_X_2\", \"LHip_Y_2\", \"LHip_X_3\", \"LHip_Y_3\",\n",
    "                    \"LKnee_X_1\", \"LKnee_Y_1\", \"LKnee_X_2\", \"LKnee_Y_2\", \"LKnee_X_3\", \"LKnee_Y_3\",\n",
    "                    \"LAnkle_X_1\", \"LAnkle_Y_1\", \"LAnkle_X_2\", \"LAnkle_Y_2\", \"LAnkle_X_3\", \"LAnkle_Y_3\",\n",
    "                    \"REye_X_1\", \"REye_Y_1\", \"REye_X_2\", \"REye_Y_2\", \"REye_X_3\", \"REye_Y_3\",\n",
    "                    \"LEye_X_1\", \"LEye_Y_1\", \"LEye_X_2\", \"LEye_Y_2\", \"LEye_X_3\", \"LEye_Y_3\",\n",
    "                    \"REar_X_1\", \"REar_Y_1\", \"REar_X_2\", \"REar_Y_2\", \"REar_X_3\", \"REar_Y_3\",\n",
    "                    \"LEar_X_1\", \"LEar_Y_1\", \"LEar_X_2\", \"LEar_Y_2\", \"LEar_X_3\", \"LEar_Y_3\",\n",
    "                    \"Background_X_1\", \"Background_Y_1\", \"Background_X_2\", \"Background_Y_2\", \"Background_X_3\", \"Background_Y_3\"\n",
    "                    ]\n",
    "\n",
    "    csv_list = []\n",
    "\n",
    "    for x in range(len(sorted_List)):\n",
    "        for y in range(0, len(sorted_List[x]),3):\n",
    "            try:\n",
    "                list_output_keypoints = []\n",
    "                for z in range(len(sorted_List[x][y])):\n",
    "                    for frame_count in range(3):\n",
    "                        for coord_count in range(2):\n",
    "                            list_output_keypoints.append(sorted_List[x][y + frame_count][z][coord_count])\n",
    "\n",
    "                csv_list.append([(\"violent\" if check_var_list[x].get() == 1 else \"non-violent\")] + list_output_keypoints)\n",
    "            except:\n",
    "                break\n",
    "\n",
    "    np_array_rows = np.array(csv_list)\n",
    "    np_array_columns = np.array(List_columns)\n",
    "\n",
    "    df = pd.DataFrame(np_array_rows)\n",
    "\n",
    "    if not os.path.isfile(DATASET_LOC_TRAIN):\n",
    "       df.to_csv(DATASET_LOC_TRAIN, index=False, header=np_array_columns)\n",
    "    else: # else it exists so append without writing the header\n",
    "       df.to_csv(DATASET_LOC_TRAIN, index=False, mode='a', header=False)"
   ],
   "metadata": {
    "collapsed": false,
    "pycharm": {
     "name": "#%%\n"
    }
   }
  },
  {
   "cell_type": "markdown",
   "source": [
    "## Main Pipeline"
   ],
   "metadata": {
    "collapsed": false
   }
  },
  {
   "cell_type": "code",
   "execution_count": null,
   "outputs": [],
   "source": [
    "def num_sort(received_string):\n",
    "    return list(map(int, re.findall(r'\\d+', received_string)))[0]\n",
    "\n",
    "def DataExtraction(VIDEO_LOC):\n",
    "\n",
    "    global window\n",
    "    global check_list\n",
    "    global check_var_list\n",
    "\n",
    "    frameCount = 0\n",
    "    OBJ_boxes = []\n",
    "    poseLoc = []\n",
    "\n",
    "    #Initialize the video stream\n",
    "    MEDIA_RAW = cv2.VideoCapture(VIDEO_LOC)\n",
    "\n",
    "    #Loop over the frames from the video stream\n",
    "    while cv2.waitKey(1) < 0:\n",
    "\n",
    "        #Grab the frame from the threaded video stream\n",
    "        hasFrame, image = MEDIA_RAW.read()\n",
    "\n",
    "        if not hasFrame:\n",
    "            cv2.waitKey()\n",
    "            cv2.destroyAllWindows()\n",
    "            break\n",
    "\n",
    "        finalImage = image.copy()\n",
    "        frameCount += 1\n",
    "\n",
    "        #Only Detect and Track People in the first frame\n",
    "        if frameCount == 1:\n",
    "            #Detect People in Image and return their Boxes Position\n",
    "            OBJ_boxes = detect_individuals_from_image(image)\n",
    "            #Pass Bounding boxes to Tracker to start tracking\n",
    "            start_tracking_from_boxes(OBJ_boxes, image)\n",
    "            #Prepare Pose Save Locations\n",
    "            poseLoc = [[] for i in range(len(OBJ_boxes))]\n",
    "\n",
    "        #Sync trackers with new frame\n",
    "        track_using_trackers(image, finalImage)\n",
    "\n",
    "        #Expand tracker bounding box with more accurate bounding boxes\n",
    "        POSE_EST_LOC = expand_tracking_box(image, finalImage)\n",
    "\n",
    "        #Apply Pose Estimation in Bounding Boxes of every person\n",
    "        for person_BBs_i in range(len(POSE_EST_LOC)):\n",
    "\n",
    "            #Create Image focusing on a single person\n",
    "            POSE_IMG = seperate_person(POSE_EST_LOC[person_BBs_i], image, finalImage)\n",
    "\n",
    "            #Estimate Pose on a single person\n",
    "            poseLoc[person_BBs_i].append(get_human_pose_from_img(POSE_IMG, finalImage))\n",
    "\n",
    "        #Resize for better output\n",
    "        finalImage = cv2.resize(finalImage, (int((700/finalImage.shape[0])*finalImage.shape[1]),700))\n",
    "\n",
    "        #show the output frame\n",
    "        cv2.imshow(VIDEO_LOC, finalImage)\n",
    "\n",
    "        if(frameCount % 3 == 0):\n",
    "            #Get Poses\n",
    "\n",
    "            #Predict Last 3 Frames\n",
    "\n",
    "            #Empty Pose List\n",
    "\n",
    "    #Stop any videos\n",
    "    MEDIA_RAW.release()\n",
    "\n",
    "    #Close all windows\n",
    "    cv2.destroyAllWindows()\n",
    "\n",
    "    #Fill-in any missing keypoints\n",
    "    augment_data(poseLoc)"
   ],
   "metadata": {
    "collapsed": false,
    "pycharm": {
     "name": "#%%\n"
    }
   }
  },
  {
   "cell_type": "markdown",
   "source": [
    "## Main Method"
   ],
   "metadata": {
    "collapsed": false
   }
  },
  {
   "cell_type": "code",
   "execution_count": null,
   "outputs": [],
   "source": [
    "#Go through each video in the dataset\n",
    "for dataset_class in DATASET_CLASSES:\n",
    "    for camera in DATASET_CAMS:\n",
    "\n",
    "        CURRENT_DIR = \"Dataset/videos_test/\" + dataset_class + camera\n",
    "\n",
    "        list_video_names = listdir(CURRENT_DIR)\n",
    "        list_video_names.sort(key=num_sort)\n",
    "\n",
    "        #For each video run the pipeline\n",
    "        for video_name in list_video_names:\n",
    "            DataExtraction(CURRENT_DIR + video_name)"
   ],
   "metadata": {
    "collapsed": false,
    "pycharm": {
     "name": "#%%\n"
    }
   }
  }
 ],
 "metadata": {
  "kernelspec": {
   "display_name": "Python 3",
   "language": "python",
   "name": "python3"
  },
  "language_info": {
   "codemirror_mode": {
    "name": "ipython",
    "version": 2
   },
   "file_extension": ".py",
   "mimetype": "text/x-python",
   "name": "python",
   "nbconvert_exporter": "python",
   "pygments_lexer": "ipython2",
   "version": "2.7.6"
  }
 },
 "nbformat": 4,
 "nbformat_minor": 0
}