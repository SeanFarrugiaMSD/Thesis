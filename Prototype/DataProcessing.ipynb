{
 "cells": [
  {
   "cell_type": "markdown",
   "source": [
    "## Imports"
   ],
   "metadata": {
    "collapsed": false
   }
  },
  {
   "cell_type": "code",
   "execution_count": 148,
   "outputs": [],
   "source": [
    "import cv2\n",
    "import numpy as np\n",
    "import sys\n",
    "import math\n",
    "import imutils\n",
    "import matplotlib.pyplot as plt"
   ],
   "metadata": {
    "collapsed": false,
    "pycharm": {
     "name": "#%%\n"
    }
   }
  },
  {
   "cell_type": "markdown",
   "source": [
    "## Globals & Prepare Model"
   ],
   "metadata": {
    "collapsed": false
   }
  },
  {
   "cell_type": "markdown",
   "source": [
    "---\n",
    "\n",
    "Object Detection\n",
    "\n",
    "---"
   ],
   "metadata": {
    "collapsed": false
   }
  },
  {
   "cell_type": "code",
   "execution_count": 149,
   "outputs": [],
   "source": [
    "#Import Object Detection Model Parameters\n",
    "OBJ_config = \"Model/yolov4.cfg\"\n",
    "OBJ_weights = \"Model/yolov4.weights\"\n",
    "OBJ_class_names_file = \"Model/coco.names\"\n",
    "\n",
    "# read class names from text file\n",
    "OBJ_class_names = None\n",
    "with open(OBJ_class_names_file, 'r') as f:\n",
    "    OBJ_class_names = [line.strip() for line in f.readlines()]\n",
    "\n",
    "OBJ_threshold = 0.5"
   ],
   "metadata": {
    "collapsed": false,
    "pycharm": {
     "name": "#%%\n"
    }
   }
  },
  {
   "cell_type": "markdown",
   "source": [
    "---\n",
    "\n",
    "Object Tracking\n",
    "\n",
    "---"
   ],
   "metadata": {
    "collapsed": false
   }
  },
  {
   "cell_type": "code",
   "execution_count": 150,
   "outputs": [],
   "source": [
    "TRACK_list = cv2.legacy.MultiTracker_create()"
   ],
   "metadata": {
    "collapsed": false,
    "pycharm": {
     "name": "#%%\n"
    }
   }
  },
  {
   "cell_type": "markdown",
   "source": [
    "---\n",
    "\n",
    "Pose Estimation\n",
    "\n",
    "---"
   ],
   "metadata": {
    "collapsed": false
   }
  },
  {
   "cell_type": "code",
   "execution_count": 151,
   "outputs": [],
   "source": [
    "#Import Pose Estimation Model Parameters\n",
    "POSE_proto = \"Model/pose_deploy_linevec.prototxt\"\n",
    "POSE_weights = \"Model/pose_iter_440000.caffemodel\"\n",
    "\n",
    "POSE_body_parts = { \"Nose\": 0, \"Neck\": 1, \"RShoulder\": 2, \"RElbow\": 3, \"RWrist\": 4,\n",
    "               \"LShoulder\": 5, \"LElbow\": 6, \"LWrist\": 7, \"RHip\": 8, \"RKnee\": 9,\n",
    "               \"RAnkle\": 10, \"LHip\": 11, \"LKnee\": 12, \"LAnkle\": 13, \"REye\": 14,\n",
    "               \"LEye\": 15, \"REar\": 16, \"LEar\": 17, \"Background\": 18 }\n",
    "\n",
    "POSE_part_pairs = [ [\"Neck\", \"RShoulder\"], [\"Neck\", \"LShoulder\"], [\"RShoulder\", \"RElbow\"],\n",
    "               [\"RElbow\", \"RWrist\"], [\"LShoulder\", \"LElbow\"], [\"LElbow\", \"LWrist\"],\n",
    "               [\"Neck\", \"RHip\"], [\"RHip\", \"RKnee\"], [\"RKnee\", \"RAnkle\"], [\"Neck\", \"LHip\"],\n",
    "               [\"LHip\", \"LKnee\"], [\"LKnee\", \"LAnkle\"], [\"Neck\", \"Nose\"], [\"Nose\", \"REye\"],\n",
    "               [\"REye\", \"REar\"], [\"Nose\", \"LEye\"], [\"LEye\", \"LEar\"] ]\n",
    "\n",
    "POSE_threshold = 0.2"
   ],
   "metadata": {
    "collapsed": false,
    "pycharm": {
     "name": "#%%\n"
    }
   }
  },
  {
   "cell_type": "code",
   "execution_count": 152,
   "outputs": [],
   "source": [
    "#Create Models\n",
    "OBJ_net = cv2.dnn.readNet(OBJ_config, OBJ_weights)\n",
    "POSE_net = cv2.dnn.readNetFromCaffe(POSE_proto, POSE_weights)\n",
    "\n",
    "#Set Models to use GPU\n",
    "OBJ_net.setPreferableBackend(cv2.dnn.DNN_BACKEND_CUDA)\n",
    "OBJ_net.setPreferableTarget(cv2.dnn.DNN_TARGET_CUDA)\n",
    "POSE_net.setPreferableBackend(cv2.dnn.DNN_BACKEND_CUDA)\n",
    "POSE_net.setPreferableTarget(cv2.dnn.DNN_TARGET_CUDA)\n"
   ],
   "metadata": {
    "collapsed": false,
    "pycharm": {
     "name": "#%%\n"
    }
   }
  },
  {
   "cell_type": "markdown",
   "source": [
    "## Import DataSet"
   ],
   "metadata": {
    "collapsed": false
   }
  },
  {
   "cell_type": "code",
   "execution_count": 153,
   "outputs": [],
   "source": [
    "#Initialize the video stream\n",
    "MEDIA_RAW = cv2.VideoCapture(\"Dataset/VideoDemo.mp4\")"
   ],
   "metadata": {
    "collapsed": false,
    "pycharm": {
     "name": "#%%\n"
    }
   }
  },
  {
   "cell_type": "markdown",
   "source": [
    "## Detect People"
   ],
   "metadata": {
    "collapsed": false
   }
  },
  {
   "cell_type": "code",
   "execution_count": 154,
   "outputs": [],
   "source": [
    "def get_output_layers(net):\n",
    "\n",
    "    layer_names = net.getLayerNames()\n",
    "\n",
    "    output_layers = [layer_names[i - 1] for i in net.getUnconnectedOutLayers()]\n",
    "\n",
    "    return output_layers\n",
    "\n",
    "def detect_individuals_from_image(OBJ_img):\n",
    "\n",
    "    OBJ_width = OBJ_img.shape[1]\n",
    "    OBJ_height = OBJ_img.shape[0]\n",
    "    OBJ_scale = 0.00392\n",
    "\n",
    "    OBJ_blob = cv2.dnn.blobFromImage(OBJ_img, OBJ_scale, (416, 416), (0,0,0), True, crop=False)\n",
    "\n",
    "    OBJ_net.setInput(OBJ_blob)\n",
    "    outs = OBJ_net.forward(get_output_layers(OBJ_net))\n",
    "\n",
    "    # initialization\n",
    "    class_ids = []\n",
    "    confidences = []\n",
    "    boxes = []\n",
    "    nms_threshold = 0.4\n",
    "\n",
    "    # for each detection from each output layer\n",
    "    # get the confidence, class id, bounding box params\n",
    "    # and ignore weak detections (confidence < 0.5)\n",
    "    for out in outs:\n",
    "        for detection in out:\n",
    "            scores = detection[5:]\n",
    "            class_id = np.argmax(scores)\n",
    "            confidence = scores[class_id]\n",
    "            if confidence > OBJ_threshold:\n",
    "                center_x = int(detection[0] * OBJ_width)\n",
    "                center_y = int(detection[1] * OBJ_height)\n",
    "                w = int(detection[2] * OBJ_width)\n",
    "                h = int(detection[3] * OBJ_height)\n",
    "                x = center_x - w / 2\n",
    "                y = center_y - h / 2\n",
    "                class_ids.append(class_id)\n",
    "                confidences.append(float(confidence))\n",
    "                boxes.append([x, y, w, h])\n",
    "\n",
    "    #Apply non-max suppression\n",
    "    indices = cv2.dnn.NMSBoxes(boxes, confidences, OBJ_threshold, nms_threshold)\n",
    "\n",
    "    confident_people_box = []\n",
    "\n",
    "    for i in indices:\n",
    "        #Only return if detected object is a Person\n",
    "        if class_ids[i] == 0:\n",
    "            confident_people_box.append(boxes[i])\n",
    "\n",
    "    return confident_people_box"
   ],
   "metadata": {
    "collapsed": false,
    "pycharm": {
     "name": "#%%\n"
    }
   }
  },
  {
   "cell_type": "markdown",
   "source": [
    "## Track People"
   ],
   "metadata": {
    "collapsed": false
   }
  },
  {
   "cell_type": "code",
   "execution_count": 155,
   "outputs": [],
   "source": [
    "def start_tracking_from_boxes(TRACK_BBoxes, TRACK_img):\n",
    "\n",
    "    #New Empty Track list\n",
    "    new_TRACK_list = cv2.legacy.MultiTracker_create()\n",
    "\n",
    "    #Fill new Track list with the new Bounding boxes\n",
    "    for TRACK_box in TRACK_BBoxes:\n",
    "\n",
    "        tracker = cv2.legacy.TrackerCSRT_create()\n",
    "        new_TRACK_list.add(tracker, TRACK_img, TRACK_box)\n",
    "\n",
    "    # print(\"Start_Tracking NEW TRACK LIST\")\n",
    "    # print(new_TRACK_list.getObjects())\n",
    "\n",
    "    global TRACK_list\n",
    "    TRACK_list = new_TRACK_list\n",
    "\n",
    "    # print(\"Start_Tracking FINAL TRACK LIST\")\n",
    "    # print(TRACK_list.getObjects())\n",
    "    # print(\"------------------------------------------------\")\n",
    "\n",
    "def track_using_trackers(TRACK_img, FINAL_img):\n",
    "\n",
    "    global TRACK_list\n",
    "\n",
    "    # grab the updated bounding box coordinates (if any) for each object that is being tracked\n",
    "    (success, TRACK_boxes) = TRACK_list.update(TRACK_img)\n",
    "\n",
    "    # print(\"TRACK BOXES\")\n",
    "    # print(TRACK_boxes)\n",
    "    # print(\"------------------------------------------------\")\n",
    "\n",
    "    TRACK_BOXES_count = 0\n",
    "\n",
    "    # loop over the bounding boxes and draw them on the frame\n",
    "    for box in TRACK_boxes:\n",
    "        TRACK_BOXES_count += 1\n",
    "        (x, y, w, h) = [int(v) for v in box]\n",
    "        #cv2.rectangle(FINAL_img, (x, y), (x + w, y + h), (0, 255, 0), 2)\n",
    "        #cv2.putText(FINAL_img, str(TRACK_BOXES_count) , (x-10,y-10), cv2.FONT_HERSHEY_SIMPLEX, 0.5, (0,0,255), 2)\n",
    "\n",
    "def update_trackers_boxes(TRACK_img, FINAL_img):\n",
    "\n",
    "    global TRACK_list\n",
    "\n",
    "    TRACK_boxes = TRACK_list.getObjects()\n",
    "\n",
    "    new_OBJ_boxes = detect_individuals_from_image(image)\n",
    "    curr_to_new_Dict = {}\n",
    "    new_TRACK_boxes = []\n",
    "\n",
    "    for OBJ_box_i in range(len(new_OBJ_boxes)):\n",
    "        new_OBJ_Center = get_center_of_box(new_OBJ_boxes[OBJ_box_i])\n",
    "        #cv2.circle(FINAL_img, new_OBJ_Center, 3, (255,0,0), 2)\n",
    "\n",
    "        (x, y, w, h) = [int(v) for v in new_OBJ_boxes[OBJ_box_i]]\n",
    "        #cv2.rectangle(FINAL_img, (x, y), (x + w, y + h), (0, 0, 0), 2)\n",
    "\n",
    "        distance = sys.maxsize\n",
    "        trackerIndex = -1\n",
    "\n",
    "        for TRACK_box_i in range(len(TRACK_boxes)):\n",
    "            curr_TRACK_Center = get_center_of_box(TRACK_boxes[TRACK_box_i])\n",
    "            #cv2.circle(FINAL_img, curr_TRACK_Center, 3, (0,0,0), 2)\n",
    "\n",
    "            curr_distance = math.dist(curr_TRACK_Center, new_OBJ_Center)\n",
    "\n",
    "            if curr_distance < distance:\n",
    "                distance = curr_distance\n",
    "                trackerIndex = TRACK_box_i\n",
    "\n",
    "        curr_to_new_Dict[trackerIndex] = new_OBJ_boxes[OBJ_box_i]\n",
    "\n",
    "    for TRACK_box in TRACK_boxes:\n",
    "        new_TRACK_boxes.append([int(TRACK_box[0]),int(TRACK_box[1]),int(TRACK_box[2]),int(TRACK_box[3])])\n",
    "\n",
    "    for i in range(len(TRACK_boxes)):\n",
    "        if i in curr_to_new_Dict:\n",
    "            new_TRACK_boxes[i] = [int(curr_to_new_Dict[i][0]),int(curr_to_new_Dict[i][1]),int(curr_to_new_Dict[i][2]),int(curr_to_new_Dict[i][3])]\n",
    "\n",
    "    # print(\"TRACK\")\n",
    "    # print(TRACK_boxes)\n",
    "    # print(\"OBJ\")\n",
    "    # print(new_OBJ_boxes)\n",
    "    # print(\"NEW TRACK FROM OBJ\")\n",
    "    # print(new_TRACK_boxes)\n",
    "    # print(\"------------------------------------------------\")\n",
    "\n",
    "    #Pass Bounding boxes to Tracker to start tracking\n",
    "    #start_tracking_from_boxes(new_TRACK_boxes, TRACK_img)\n",
    "\n",
    "    return new_TRACK_boxes\n",
    "\n",
    "def get_center_of_box(boundingBox):\n",
    "\n",
    "    boundingBox_Xcenter = int((boundingBox[0] + (boundingBox[0] + boundingBox[2])) / 2)\n",
    "    boundingBox_Ycenter = int((boundingBox[1] + (boundingBox[1] + boundingBox[3])) / 2)\n",
    "\n",
    "    return(boundingBox_Xcenter, boundingBox_Ycenter)"
   ],
   "metadata": {
    "collapsed": false,
    "pycharm": {
     "name": "#%%\n"
    }
   }
  },
  {
   "cell_type": "markdown",
   "source": [
    "## Estimate Human Poses"
   ],
   "metadata": {
    "collapsed": false
   }
  },
  {
   "cell_type": "code",
   "execution_count": 156,
   "outputs": [],
   "source": [
    "def get_human_pose_from_box(POSE_img_box, FINAL_img):\n",
    "\n",
    "    IMG_HEIGHT = POSE_img_box.shape[0]\n",
    "    IMG_WIDTH = POSE_img_box.shape[1]\n",
    "\n",
    "    #Resize for prediction\n",
    "    BLOB_HEIGHT=368\n",
    "    BLOB_WIDTH=int((BLOB_HEIGHT/IMG_HEIGHT)*IMG_WIDTH)\n",
    "\n",
    "    # Use the given image as input, which needs to be blob(s).\n",
    "    imgBlob = cv2.dnn.blobFromImage(POSE_img_box, 1.0/255, (BLOB_WIDTH, BLOB_HEIGHT), (0,0,0), swapRB=True, crop=False)\n",
    "    POSE_net.setInput(imgBlob)\n",
    "\n",
    "    # Runs a forward pass to compute the POSE_MODEL output\n",
    "    out = POSE_net.forward()\n",
    "    # MobilePOSE_MODEL output [1, 57, -1, -1], we only need the first 19 elements\n",
    "    out = out[:, :19, :, :]\n",
    "\n",
    "    assert(len(POSE_body_parts) == out.shape[1])\n",
    "\n",
    "    points = []\n",
    "    for i in range(len(POSE_body_parts)):\n",
    "        # Slice heatmap of corresponding body's part.\n",
    "        heatMap = out[0, i, :, :]\n",
    "\n",
    "        # Originally, we try to find all the local maximums. To simplify a sample\n",
    "        # we just find a global one. However only a single pose at the same time\n",
    "        # could be detected this way.\n",
    "        _, conf, _, point = cv2.minMaxLoc(heatMap)\n",
    "        x = (IMG_WIDTH * point[0]) / out.shape[3]\n",
    "        y = (IMG_HEIGHT * point[1]) / out.shape[2]\n",
    "        # Add a point if it's confidence is higher than THRESHOLD.\n",
    "        points.append((int(x), int(y)) if conf > POSE_threshold else None)\n",
    "\n",
    "\n",
    "    for pair in POSE_part_pairs:\n",
    "        partFrom = pair[0]\n",
    "        partTo = pair[1]\n",
    "        assert(partFrom in POSE_body_parts)\n",
    "        assert(partTo in POSE_body_parts)\n",
    "\n",
    "        idFrom = POSE_body_parts[partFrom]\n",
    "        idTo = POSE_body_parts[partTo]\n",
    "\n",
    "        if points[idFrom] and points[idTo]:\n",
    "            cv2.putText(FINAL_img,partFrom,points[idFrom], cv2.FONT_HERSHEY_SIMPLEX, 0.5, (255,0,0), 1, cv2.LINE_AA)\n",
    "            cv2.putText(FINAL_img,partTo,points[idTo],cv2.FONT_HERSHEY_SIMPLEX, 0.5, (255,0,0), 1, cv2.LINE_AA)\n",
    "            cv2.line(FINAL_img, points[idFrom], points[idTo], (0, 255, 0), 3)\n",
    "            cv2.ellipse(FINAL_img, points[idFrom], (3, 3), 0, 0, 360, (0, 0, 255), cv2.FILLED)\n",
    "            cv2.ellipse(FINAL_img, points[idTo], (3, 3), 0, 0, 360, (0, 0, 255), cv2.FILLED)"
   ],
   "metadata": {
    "collapsed": false,
    "pycharm": {
     "name": "#%%\n"
    }
   }
  },
  {
   "cell_type": "markdown",
   "source": [
    "## Main Pipeline"
   ],
   "metadata": {
    "collapsed": false
   }
  },
  {
   "cell_type": "code",
   "execution_count": 157,
   "outputs": [],
   "source": [
    "frameCount = 0\n",
    "OBJ_boxes = []\n",
    "\n",
    "#Loop over the frames from the video stream\n",
    "while cv2.waitKey(1) < 0:\n",
    "\n",
    "    #Grab the frame from the threaded video stream\n",
    "    hasFrame, image = MEDIA_RAW.read()\n",
    "    finalImage = image.copy()\n",
    "\n",
    "    if not hasFrame:\n",
    "        cv2.waitKey()\n",
    "        cv2.destroyAllWindows()\n",
    "        break\n",
    "\n",
    "    frameCount += 1\n",
    "\n",
    "    #Only Detect and Track People in the first frame\n",
    "    if frameCount == 1:\n",
    "        #Detect People in Image and return their Boxes Position\n",
    "        OBJ_boxes = detect_individuals_from_image(image)\n",
    "        #Pass Bounding boxes to Tracker to start tracking\n",
    "        start_tracking_from_boxes(OBJ_boxes, image)\n",
    "\n",
    "    #Sync trackers with new frame\n",
    "    track_using_trackers(image, finalImage)\n",
    "\n",
    "    #Get the more accurate bounding boxes\n",
    "    POSE_EST_LOC = update_trackers_boxes(image, finalImage)\n",
    "\n",
    "    #Apply Pose Estimation in Bounding Boxes\n",
    "    for x in range(len(POSE_EST_LOC)):\n",
    "        tl = POSE_EST_LOC[x][0]\n",
    "        tr = POSE_EST_LOC[x][0]+POSE_EST_LOC[x][2]\n",
    "        bl = POSE_EST_LOC[x][1]\n",
    "        br = POSE_EST_LOC[x][1]+POSE_EST_LOC[x][3]\n",
    "\n",
    "        cv2.rectangle(finalImage, (tl, bl), (tr, br), (0, 0, 0), 2)\n",
    "        cv2.putText(finalImage, str(x) , (tl-10,bl-10), cv2.FONT_HERSHEY_SIMPLEX, 0.5, (0,0,255), 2)\n",
    "\n",
    "        POSE_img = np.zeros(finalImage.shape, dtype=np.uint8)\n",
    "\n",
    "        #Seperate each product/contour into a new image by cropping the image to the bounding box of the product\n",
    "        POSE_img[bl:br, tl:tr] = image[bl:br, tl:tr]\n",
    "\n",
    "        #Estimate Pose\n",
    "        get_human_pose_from_box(POSE_img, finalImage)\n",
    "\n",
    "    #show the output frame\n",
    "    cv2.imshow(\"Frame\", finalImage)\n",
    "\n",
    "MEDIA_RAW.release()\n",
    "\n",
    "# close all windows\n",
    "cv2.destroyAllWindows()"
   ],
   "metadata": {
    "collapsed": false,
    "pycharm": {
     "name": "#%%\n"
    }
   }
  }
 ],
 "metadata": {
  "kernelspec": {
   "display_name": "Python 3",
   "language": "python",
   "name": "python3"
  },
  "language_info": {
   "codemirror_mode": {
    "name": "ipython",
    "version": 2
   },
   "file_extension": ".py",
   "mimetype": "text/x-python",
   "name": "python",
   "nbconvert_exporter": "python",
   "pygments_lexer": "ipython2",
   "version": "2.7.6"
  }
 },
 "nbformat": 4,
 "nbformat_minor": 0
}