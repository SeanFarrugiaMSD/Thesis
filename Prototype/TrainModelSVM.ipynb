{
 "cells": [
  {
   "cell_type": "markdown",
   "metadata": {
    "collapsed": true,
    "pycharm": {
     "name": "#%% md\n"
    }
   },
   "source": [
    "## Imports"
   ]
  },
  {
   "cell_type": "code",
   "execution_count": 11,
   "outputs": [],
   "source": [
    "import pandas as pd\n",
    "import numpy as np\n",
    "import time\n",
    "\n",
    "from sklearn import svm\n",
    "from sklearn import metrics\n",
    "\n",
    "import joblib"
   ],
   "metadata": {
    "collapsed": false,
    "pycharm": {
     "name": "#%%\n"
    }
   }
  },
  {
   "cell_type": "markdown",
   "source": [
    "## Globals"
   ],
   "metadata": {
    "collapsed": false
   }
  },
  {
   "cell_type": "code",
   "execution_count": 12,
   "outputs": [],
   "source": [
    "CLASS_LABELS = ['non-violent','violent']\n",
    "LABELS_COUNT = len(CLASS_LABELS)\n",
    "\n",
    "DATASET_PATH = 'Dataset/violent_keypoints_dataset.csv'\n",
    "CONF_DATASET_PATH = 'Dataset/violent_keypoints_conf_dataset.csv'\n",
    "\n",
    "MEAN_CONF_THRESHOLD = 0.3\n",
    "\n",
    "TRAIN_SPLIT = 0.8\n",
    "\n",
    "EPOCHS = 50\n",
    "BATCH_SIZE = 32"
   ],
   "metadata": {
    "collapsed": false,
    "pycharm": {
     "name": "#%%\n"
    }
   }
  },
  {
   "cell_type": "markdown",
   "source": [
    "## Import Dataset"
   ],
   "metadata": {
    "collapsed": false
   }
  },
  {
   "cell_type": "code",
   "execution_count": 13,
   "outputs": [
    {
     "name": "stdout",
     "output_type": "stream",
     "text": [
      "[[0.         0.39010417 0.19537038 ... 0.         0.01197917 0.        ]\n",
      " [0.         0.39010417 0.19537038 ... 0.         0.01197917 0.        ]\n",
      " [0.         0.40208334 0.17314816 ... 0.         0.01197917 0.        ]\n",
      " ...\n",
      " [0.         0.82916665 0.32592592 ... 0.912963   0.75572914 0.912963  ]\n",
      " [0.         0.82916665 0.32592592 ... 0.912963   0.7921875  0.912963  ]\n",
      " [0.         0.82916665 0.32592592 ... 0.912963   0.78020835 0.912963  ]]\n",
      "(18782, 115)\n"
     ]
    }
   ],
   "source": [
    "#Import Dataset\n",
    "data = pd.read_csv(DATASET_PATH).values\n",
    "\n",
    "data[data == \"non-violent\"] = 0\n",
    "data[data == \"violent\"] = 1\n",
    "\n",
    "data = data.astype('float32')\n",
    "\n",
    "print(data)\n",
    "print(data.shape)"
   ],
   "metadata": {
    "collapsed": false,
    "pycharm": {
     "name": "#%%\n"
    }
   }
  },
  {
   "cell_type": "markdown",
   "source": [
    "## Import Confidence Scores"
   ],
   "metadata": {
    "collapsed": false
   }
  },
  {
   "cell_type": "code",
   "execution_count": 14,
   "outputs": [
    {
     "name": "stdout",
     "output_type": "stream",
     "text": [
      "[[0.90829366 0.9098409  0.88324505 ... 1.0002861  1.0002861  1.0002861 ]\n",
      " [0.77648973 0.77207035 0.8895651  ... 1.0002861  1.0002861  1.0002861 ]\n",
      " [0.9565707  0.9612467  0.9501098  ... 1.0002861  1.0002861  1.0002861 ]\n",
      " ...\n",
      " [0.7978637  0.7987297  0.80684346 ... 1.0003604  1.0003687  1.0003697 ]\n",
      " [0.7871349  0.75497144 0.8119281  ... 1.0003862  1.0003688  1.0003535 ]\n",
      " [0.858122   0.85942066 0.8820014  ... 1.0003508  1.0003545  1.0003492 ]]\n",
      "(18782, 57)\n"
     ]
    }
   ],
   "source": [
    "#Import Confidence\n",
    "conf_data = pd.read_csv(CONF_DATASET_PATH).values\n",
    "\n",
    "conf_data = conf_data[:, 1:]\n",
    "\n",
    "conf_data = conf_data.astype('float32')\n",
    "\n",
    "print(conf_data)\n",
    "print(conf_data.shape)"
   ],
   "metadata": {
    "collapsed": false,
    "pycharm": {
     "name": "#%%\n"
    }
   }
  },
  {
   "cell_type": "markdown",
   "source": [
    "## Remove Data w/ Low Confidence"
   ],
   "metadata": {
    "collapsed": false
   }
  },
  {
   "cell_type": "code",
   "execution_count": 15,
   "outputs": [
    {
     "name": "stdout",
     "output_type": "stream",
     "text": [
      "AVG MEAN: 0.5324823716616697\n",
      "[[0.         0.39010417 0.19537038 ... 0.         0.01197917 0.        ]\n",
      " [0.         0.39010417 0.19537038 ... 0.         0.01197917 0.        ]\n",
      " [0.         0.40208334 0.17314816 ... 0.         0.01197917 0.        ]\n",
      " ...\n",
      " [0.         0.82916665 0.32592592 ... 0.912963   0.75572914 0.912963  ]\n",
      " [0.         0.82916665 0.32592592 ... 0.912963   0.7921875  0.912963  ]\n",
      " [0.         0.82916665 0.32592592 ... 0.912963   0.78020835 0.912963  ]]\n",
      "(15904, 115)\n"
     ]
    }
   ],
   "source": [
    "high_conf_data = []\n",
    "\n",
    "count = 0\n",
    "\n",
    "#Mean Confidence\n",
    "for x in range(len(conf_data)):\n",
    "    count += np.mean(conf_data[x])\n",
    "    if np.mean(conf_data[x]) >= MEAN_CONF_THRESHOLD:\n",
    "        high_conf_data.append(data[x])\n",
    "\n",
    "avg_mean = count / len(conf_data)\n",
    "print(\"AVG MEAN: \" + str(avg_mean))\n",
    "\n",
    "high_conf_data = np.array(high_conf_data)\n",
    "\n",
    "print(high_conf_data)\n",
    "print(high_conf_data.shape)"
   ],
   "metadata": {
    "collapsed": false,
    "pycharm": {
     "name": "#%%\n"
    }
   }
  },
  {
   "cell_type": "markdown",
   "source": [
    "## Split Dataset"
   ],
   "metadata": {
    "collapsed": false
   }
  },
  {
   "cell_type": "code",
   "execution_count": 16,
   "outputs": [],
   "source": [
    "TRAIN_AMOUNT = int(data.shape[0] * TRAIN_SPLIT)\n",
    "\n",
    "#Shuffle Data\n",
    "for x in range(100):\n",
    "    np.random.shuffle(data)\n",
    "\n",
    "#Split Data into Train and Test\n",
    "train = data[0:TRAIN_AMOUNT]\n",
    "test = data[TRAIN_AMOUNT:]\n",
    "\n",
    "#Extract Data and Reshape to 2d array\n",
    "x_train = np.reshape(train[:, 1:],(train.shape[0],19,3,2)).swapaxes(2,3).swapaxes(1,3)\n",
    "x_train = np.reshape(x_train,(train.shape[0],3,38), order=\"F\")\n",
    "x_train = np.reshape(x_train,(x_train.shape[0],3 * 38))\n",
    "\n",
    "x_test = np.reshape(test[:, 1:],(test.shape[0],19,3,2)).swapaxes(2,3).swapaxes(1,3)\n",
    "x_test = np.reshape(x_test,(test.shape[0],3,38), order=\"F\")\n",
    "x_test = np.reshape(x_test,(x_test.shape[0],3 * 38))\n",
    "\n",
    "#Extract Labels\n",
    "y_train = train[:,0]\n",
    "y_test = test[:,0]"
   ],
   "metadata": {
    "collapsed": false,
    "pycharm": {
     "name": "#%%\n"
    }
   }
  },
  {
   "cell_type": "markdown",
   "source": [
    "## Build SVM Model"
   ],
   "metadata": {
    "collapsed": false
   }
  },
  {
   "cell_type": "code",
   "execution_count": 17,
   "outputs": [],
   "source": [
    "#Create a svm Classifier\n",
    "clf = svm.SVC(kernel='linear') # Linear Kernel"
   ],
   "metadata": {
    "collapsed": false,
    "pycharm": {
     "name": "#%%\n"
    }
   }
  },
  {
   "cell_type": "markdown",
   "source": [
    "## Train Model"
   ],
   "metadata": {
    "collapsed": false
   }
  },
  {
   "cell_type": "code",
   "execution_count": 18,
   "outputs": [
    {
     "name": "stdout",
     "output_type": "stream",
     "text": [
      "Time: 35.100419998168945\n"
     ]
    }
   ],
   "source": [
    "#Start taking time\n",
    "start = time.time()\n",
    "\n",
    "#Train the model using the training sets\n",
    "clf.fit(x_train, y_train)\n",
    "\n",
    "#Output time taken\n",
    "print(f'Time: {time.time() - start}')\n",
    "\n",
    "#Predict the response for test dataset\n",
    "y_pred = clf.predict(x_test)"
   ],
   "metadata": {
    "collapsed": false,
    "pycharm": {
     "name": "#%%\n"
    }
   }
  },
  {
   "cell_type": "markdown",
   "source": [
    "## Model Evaluation"
   ],
   "metadata": {
    "collapsed": false
   }
  },
  {
   "cell_type": "code",
   "execution_count": 19,
   "outputs": [
    {
     "name": "stdout",
     "output_type": "stream",
     "text": [
      "Accuracy: 0.632951823263242\n",
      "Precision: 0.6420863309352518\n",
      "Recall: 0.42123893805309737\n"
     ]
    }
   ],
   "source": [
    "# Model Accuracy: how often is the classifier correct?\n",
    "print(\"Accuracy:\",metrics.accuracy_score(y_test, y_pred))\n",
    "\n",
    "# Model Precision: what percentage of positive tuples are labeled as such?\n",
    "print(\"Precision:\",metrics.precision_score(y_test, y_pred))\n",
    "\n",
    "# Model Recall: what percentage of positive tuples are labelled as such?\n",
    "print(\"Recall:\",metrics.recall_score(y_test, y_pred))\n"
   ],
   "metadata": {
    "collapsed": false,
    "pycharm": {
     "name": "#%%\n"
    }
   }
  },
  {
   "cell_type": "markdown",
   "source": [
    "## Export Model and Weights"
   ],
   "metadata": {
    "collapsed": false
   }
  },
  {
   "cell_type": "code",
   "execution_count": 20,
   "outputs": [
    {
     "data": {
      "text/plain": "['ViolentModel/SVM/violent_model.pkl']"
     },
     "execution_count": 20,
     "metadata": {},
     "output_type": "execute_result"
    }
   ],
   "source": [
    "#Export SVM model\n",
    "joblib.dump(clf, 'ViolentModel/SVM/violent_model.pkl')\n"
   ],
   "metadata": {
    "collapsed": false,
    "pycharm": {
     "name": "#%%\n"
    }
   }
  }
 ],
 "metadata": {
  "kernelspec": {
   "display_name": "Python 3",
   "language": "python",
   "name": "python3"
  },
  "language_info": {
   "codemirror_mode": {
    "name": "ipython",
    "version": 2
   },
   "file_extension": ".py",
   "mimetype": "text/x-python",
   "name": "python",
   "nbconvert_exporter": "python",
   "pygments_lexer": "ipython2",
   "version": "2.7.6"
  }
 },
 "nbformat": 4,
 "nbformat_minor": 0
}