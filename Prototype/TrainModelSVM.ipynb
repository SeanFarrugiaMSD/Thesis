{
 "cells": [
  {
   "cell_type": "markdown",
   "metadata": {
    "collapsed": true,
    "pycharm": {
     "name": "#%% md\n"
    }
   },
   "source": [
    "## Imports"
   ]
  },
  {
   "cell_type": "code",
   "execution_count": null,
   "outputs": [],
   "source": [
    "import pandas as pd\n",
    "import numpy as np\n",
    "import time\n",
    "\n",
    "from sklearn import svm\n",
    "from sklearn import metrics\n",
    "\n",
    "import joblib"
   ],
   "metadata": {
    "collapsed": false,
    "pycharm": {
     "name": "#%%\n"
    }
   }
  },
  {
   "cell_type": "markdown",
   "source": [
    "## Globals"
   ],
   "metadata": {
    "collapsed": false
   }
  },
  {
   "cell_type": "code",
   "execution_count": null,
   "outputs": [],
   "source": [
    "CLASS_LABELS = ['non-violent','violent']\n",
    "LABELS_COUNT = len(CLASS_LABELS)\n",
    "\n",
    "DATASET_PATH = 'Dataset/violent_keypoints_dataset.csv'\n",
    "CONF_DATASET_PATH = 'Dataset/violent_keypoints_conf_dataset.csv'\n",
    "\n",
    "MEAN_CONF_THRESHOLD = 0.3\n",
    "\n",
    "TRAIN_SPLIT = 0.8\n",
    "\n",
    "EPOCHS = 50\n",
    "BATCH_SIZE = 32"
   ],
   "metadata": {
    "collapsed": false,
    "pycharm": {
     "name": "#%%\n"
    }
   }
  },
  {
   "cell_type": "markdown",
   "source": [
    "## Import Dataset"
   ],
   "metadata": {
    "collapsed": false
   }
  },
  {
   "cell_type": "code",
   "execution_count": null,
   "outputs": [],
   "source": [
    "#Import Dataset\n",
    "data = pd.read_csv(DATASET_PATH).values\n",
    "\n",
    "data[data == \"non-violent\"] = 0\n",
    "data[data == \"violent\"] = 1\n",
    "\n",
    "data = data.astype('float32')\n",
    "\n",
    "print(data)\n",
    "print(data.shape)"
   ],
   "metadata": {
    "collapsed": false,
    "pycharm": {
     "name": "#%%\n"
    }
   }
  },
  {
   "cell_type": "markdown",
   "source": [
    "## Import Confidence Scores"
   ],
   "metadata": {
    "collapsed": false
   }
  },
  {
   "cell_type": "code",
   "execution_count": null,
   "outputs": [],
   "source": [
    "#Import Confidence\n",
    "conf_data = pd.read_csv(CONF_DATASET_PATH).values\n",
    "\n",
    "conf_data = conf_data[:, 1:]\n",
    "\n",
    "conf_data = conf_data.astype('float32')\n",
    "\n",
    "print(conf_data)\n",
    "print(conf_data.shape)"
   ],
   "metadata": {
    "collapsed": false,
    "pycharm": {
     "name": "#%%\n"
    }
   }
  },
  {
   "cell_type": "markdown",
   "source": [
    "## Remove Data w/ Low Confidence"
   ],
   "metadata": {
    "collapsed": false
   }
  },
  {
   "cell_type": "code",
   "execution_count": null,
   "outputs": [],
   "source": [
    "high_conf_data = []\n",
    "\n",
    "count = 0\n",
    "\n",
    "#Mean Confidence\n",
    "for x in range(len(conf_data)):\n",
    "    count += np.mean(conf_data[x])\n",
    "    if np.mean(conf_data[x]) >= MEAN_CONF_THRESHOLD:\n",
    "        high_conf_data.append(data[x])\n",
    "\n",
    "avg_mean = count / len(conf_data)\n",
    "print(\"AVG MEAN: \" + str(avg_mean))\n",
    "\n",
    "high_conf_data = np.array(high_conf_data)\n",
    "\n",
    "print(high_conf_data)\n",
    "print(high_conf_data.shape)"
   ],
   "metadata": {
    "collapsed": false,
    "pycharm": {
     "name": "#%%\n"
    }
   }
  },
  {
   "cell_type": "markdown",
   "source": [
    "## Split Dataset"
   ],
   "metadata": {
    "collapsed": false
   }
  },
  {
   "cell_type": "code",
   "execution_count": null,
   "outputs": [],
   "source": [
    "TRAIN_AMOUNT = int(data.shape[0] * TRAIN_SPLIT)\n",
    "\n",
    "#Shuffle Data\n",
    "for x in range(100):\n",
    "    np.random.shuffle(data)\n",
    "\n",
    "#Split Data into Train and Test\n",
    "train = data[0:TRAIN_AMOUNT]\n",
    "test = data[TRAIN_AMOUNT:]\n",
    "\n",
    "#Extract Data and Reshape to 2d array\n",
    "x_train = np.reshape(train[:, 1:],(train.shape[0],19,3,2)).swapaxes(2,3).swapaxes(1,3)\n",
    "x_train = np.reshape(x_train,(train.shape[0],3,38), order=\"F\")\n",
    "x_train = np.reshape(x_train,(x_train.shape[0],3 * 38))\n",
    "\n",
    "x_test = np.reshape(test[:, 1:],(test.shape[0],19,3,2)).swapaxes(2,3).swapaxes(1,3)\n",
    "x_test = np.reshape(x_test,(test.shape[0],3,38), order=\"F\")\n",
    "x_test = np.reshape(x_test,(x_test.shape[0],3 * 38))\n",
    "\n",
    "#Extract Labels\n",
    "y_train = train[:,0]\n",
    "y_test = test[:,0]"
   ],
   "metadata": {
    "collapsed": false,
    "pycharm": {
     "name": "#%%\n"
    }
   }
  },
  {
   "cell_type": "markdown",
   "source": [
    "## Build SVM Model"
   ],
   "metadata": {
    "collapsed": false
   }
  },
  {
   "cell_type": "code",
   "execution_count": null,
   "outputs": [],
   "source": [
    "#Create a svm Classifier\n",
    "clf = svm.SVC(kernel='linear') # Linear Kernel"
   ],
   "metadata": {
    "collapsed": false,
    "pycharm": {
     "name": "#%%\n"
    }
   }
  },
  {
   "cell_type": "markdown",
   "source": [
    "## Train Model"
   ],
   "metadata": {
    "collapsed": false
   }
  },
  {
   "cell_type": "code",
   "execution_count": null,
   "outputs": [],
   "source": [
    "#Start taking time\n",
    "start = time.time()\n",
    "\n",
    "#Train the model using the training sets\n",
    "clf.fit(x_train, y_train)\n",
    "\n",
    "#Output time taken\n",
    "print(f'Time: {time.time() - start}')\n",
    "\n",
    "#Predict the response for test dataset\n",
    "y_pred = clf.predict(x_test)"
   ],
   "metadata": {
    "collapsed": false,
    "pycharm": {
     "name": "#%%\n"
    }
   }
  },
  {
   "cell_type": "markdown",
   "source": [
    "## Model Evaluation"
   ],
   "metadata": {
    "collapsed": false
   }
  },
  {
   "cell_type": "code",
   "execution_count": null,
   "outputs": [],
   "source": [
    "# Model Accuracy: how often is the classifier correct?\n",
    "print(\"Accuracy:\",metrics.accuracy_score(y_test, y_pred))\n",
    "\n",
    "# Model Precision: what percentage of positive tuples are labeled as such?\n",
    "print(\"Precision:\",metrics.precision_score(y_test, y_pred))\n",
    "\n",
    "# Model Recall: what percentage of positive tuples are labelled as such?\n",
    "print(\"Recall:\",metrics.recall_score(y_test, y_pred))\n"
   ],
   "metadata": {
    "collapsed": false,
    "pycharm": {
     "name": "#%%\n"
    }
   }
  },
  {
   "cell_type": "markdown",
   "source": [
    "## Export Model and Weights"
   ],
   "metadata": {
    "collapsed": false
   }
  },
  {
   "cell_type": "code",
   "execution_count": null,
   "outputs": [],
   "source": [
    "#Export SVM model\n",
    "joblib.dump(clf, 'ViolentModel/SVM/violent_model.pkl')\n"
   ],
   "metadata": {
    "collapsed": false,
    "pycharm": {
     "name": "#%%\n"
    }
   }
  }
 ],
 "metadata": {
  "kernelspec": {
   "display_name": "Python 3",
   "language": "python",
   "name": "python3"
  },
  "language_info": {
   "codemirror_mode": {
    "name": "ipython",
    "version": 2
   },
   "file_extension": ".py",
   "mimetype": "text/x-python",
   "name": "python",
   "nbconvert_exporter": "python",
   "pygments_lexer": "ipython2",
   "version": "2.7.6"
  }
 },
 "nbformat": 4,
 "nbformat_minor": 0
}