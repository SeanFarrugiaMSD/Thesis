{
 "cells": [
  {
   "cell_type": "code",
   "execution_count": 18,
   "metadata": {
    "collapsed": true,
    "pycharm": {
     "name": "#%%\n"
    }
   },
   "outputs": [
    {
     "name": "stdout",
     "output_type": "stream",
     "text": [
      "CV2 Version:  4.5.5\n"
     ]
    }
   ],
   "source": [
    "# import the necessary packages\n",
    "from imutils.video import VideoStream\n",
    "from imutils.video import FPS\n",
    "import argparse\n",
    "import imutils\n",
    "import time\n",
    "import cv2\n",
    "\n",
    "print(\"CV2 Version: \", cv2.__version__)\n",
    "\n",
    "# grab the appropriate object tracker using our dictionary of OpenCV object tracker objects\n",
    "trackers = cv2.legacy.MultiTracker_create()\n",
    "\n",
    "vs = cv2.VideoCapture(\"Media/VideoDemo.mp4\")\n",
    "\n",
    "# initialize the bounding box coordinates of the object we are going\n",
    "# to track\n",
    "initBB = None\n",
    "\n",
    "# initialize the FPS throughput estimator\n",
    "fps = None\n",
    "\n",
    "# loop over frames from the video stream\n",
    "while True:\n",
    "\t# grab the current frame, then handle if we are using a VideoStream or VideoCapture object\n",
    "\tframe = vs.read()\n",
    "\n",
    "\tframe = frame[1] #if args.get(\"video\", False) else frame\n",
    "\n",
    "\t# check to see if we have reached the end of the stream\n",
    "\tif frame is None:\n",
    "\n",
    "\t\tbreak\n",
    "\n",
    "\t# resize the frame (so we can process it faster) and grab the\n",
    "\t# frame dimensions\n",
    "\tframe = imutils.resize(frame, width=600)\n",
    "\n",
    "    # grab the updated bounding box coordinates (if any) for each object that is being tracked\n",
    "\t(success, boxes) = trackers.update(frame)\n",
    "\n",
    "\t# loop over the bounding boxes and draw them on the frame\n",
    "\tfor box in boxes:\n",
    "\t\t(x, y, w, h) = [int(v) for v in box]\n",
    "\t\tcv2.rectangle(frame, (x, y), (x + w, y + h), (0, 255, 0), 2)\n",
    "\n",
    "    # show the output frame\n",
    "\tcv2.imshow(\"Frame\", frame)\n",
    "\n",
    "\tkey = cv2.waitKey(1) & 0xFF\n",
    "\n",
    "    # if the 's' key is selected, we are going to \"select\" a bounding\n",
    "\t# box to track\n",
    "\tif key == ord(\"s\"):\n",
    "\t\t# select the bounding box of the object we want to track (make\n",
    "\t\t# sure you press ENTER or SPACE after selecting the ROI)\n",
    "\t\tbox = cv2.selectROI(\"Frame\", frame, fromCenter=False, showCrosshair=True)\n",
    "\n",
    "\t\t# create a new object tracker for the bounding box and add it\n",
    "\t\t# to our multi-object tracker\n",
    "\t\ttracker = cv2.legacy.TrackerCSRT_create()\n",
    "\t\ttrackers.add(tracker, frame, box)\n",
    "\n",
    "    # if the `q` key was pressed, break from the loop\n",
    "\telif key == ord(\"q\"):\n",
    "\t\tbreak\n",
    "\n",
    "vs.release()\n",
    "\n",
    "# close all windows\n",
    "cv2.destroyAllWindows()"
   ]
  }
 ],
 "metadata": {
  "kernelspec": {
   "display_name": "Python 3",
   "language": "python",
   "name": "python3"
  },
  "language_info": {
   "codemirror_mode": {
    "name": "ipython",
    "version": 2
   },
   "file_extension": ".py",
   "mimetype": "text/x-python",
   "name": "python",
   "nbconvert_exporter": "python",
   "pygments_lexer": "ipython2",
   "version": "2.7.6"
  }
 },
 "nbformat": 4,
 "nbformat_minor": 0
}