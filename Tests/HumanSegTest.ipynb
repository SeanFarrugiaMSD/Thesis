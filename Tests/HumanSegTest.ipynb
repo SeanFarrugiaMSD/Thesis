{
 "cells": [
  {
   "cell_type": "code",
   "execution_count": 1,
   "metadata": {
    "collapsed": true
   },
   "outputs": [
    {
     "ename": "ModuleNotFoundError",
     "evalue": "No module named 'ochumanApi'",
     "output_type": "error",
     "traceback": [
      "\u001B[1;31m---------------------------------------------------------------------------\u001B[0m",
      "\u001B[1;31mModuleNotFoundError\u001B[0m                       Traceback (most recent call last)",
      "\u001B[1;32m~\\AppData\\Local\\Temp/ipykernel_14904/2841646409.py\u001B[0m in \u001B[0;36m<module>\u001B[1;34m\u001B[0m\n\u001B[0;32m      1\u001B[0m \u001B[1;31m## Initialize\u001B[0m\u001B[1;33m\u001B[0m\u001B[1;33m\u001B[0m\u001B[1;33m\u001B[0m\u001B[0m\n\u001B[1;32m----> 2\u001B[1;33m \u001B[1;32mfrom\u001B[0m \u001B[0mModel\u001B[0m\u001B[1;33m.\u001B[0m\u001B[0mochumanApi\u001B[0m\u001B[1;33m.\u001B[0m\u001B[0mochuman\u001B[0m \u001B[1;32mimport\u001B[0m \u001B[0mOCHuman\u001B[0m\u001B[1;33m\u001B[0m\u001B[1;33m\u001B[0m\u001B[0m\n\u001B[0m\u001B[0;32m      3\u001B[0m \u001B[1;31m# <Filter>:\u001B[0m\u001B[1;33m\u001B[0m\u001B[1;33m\u001B[0m\u001B[1;33m\u001B[0m\u001B[0m\n\u001B[0;32m      4\u001B[0m \u001B[1;31m#      None(default): load all. each has a bbox. some instances have keypoint and some have mask annotations.\u001B[0m\u001B[1;33m\u001B[0m\u001B[1;33m\u001B[0m\u001B[1;33m\u001B[0m\u001B[0m\n\u001B[0;32m      5\u001B[0m \u001B[1;31m#            images: 5081, instances: 13360\u001B[0m\u001B[1;33m\u001B[0m\u001B[1;33m\u001B[0m\u001B[1;33m\u001B[0m\u001B[0m\n",
      "\u001B[1;32mF:\\Notes\\Thesis\\Demos\\COCO_Single\\Model\\ochumanApi\\ochuman.py\u001B[0m in \u001B[0;36m<module>\u001B[1;34m\u001B[0m\n\u001B[0;32m      3\u001B[0m \u001B[1;32mimport\u001B[0m \u001B[0mos\u001B[0m\u001B[1;33m\u001B[0m\u001B[1;33m\u001B[0m\u001B[0m\n\u001B[0;32m      4\u001B[0m \u001B[1;32mimport\u001B[0m \u001B[0mnumpy\u001B[0m \u001B[1;32mas\u001B[0m \u001B[0mnp\u001B[0m\u001B[1;33m\u001B[0m\u001B[1;33m\u001B[0m\u001B[0m\n\u001B[1;32m----> 5\u001B[1;33m \u001B[1;32mimport\u001B[0m \u001B[0mochumanApi\u001B[0m\u001B[1;33m.\u001B[0m\u001B[0mmask\u001B[0m \u001B[1;32mas\u001B[0m \u001B[0mmask_util\u001B[0m\u001B[1;33m\u001B[0m\u001B[1;33m\u001B[0m\u001B[0m\n\u001B[0m\u001B[0;32m      6\u001B[0m \u001B[1;32mfrom\u001B[0m \u001B[0mochumanApi\u001B[0m\u001B[1;33m.\u001B[0m\u001B[0mvis\u001B[0m \u001B[1;32mimport\u001B[0m \u001B[0mdraw_bbox\u001B[0m\u001B[1;33m,\u001B[0m \u001B[0mdraw_mask\u001B[0m\u001B[1;33m,\u001B[0m \u001B[0mdraw_skeleton\u001B[0m\u001B[1;33m\u001B[0m\u001B[1;33m\u001B[0m\u001B[0m\n\u001B[0;32m      7\u001B[0m \u001B[1;33m\u001B[0m\u001B[0m\n",
      "\u001B[1;31mModuleNotFoundError\u001B[0m: No module named 'ochumanApi'"
     ]
    }
   ],
   "source": [
    "## Initialize\n",
    "from Model.ochumanApi.ochuman import OCHuman\n",
    "# <Filter>:\n",
    "#      None(default): load all. each has a bbox. some instances have keypoint and some have mask annotations.\n",
    "#            images: 5081, instances: 13360\n",
    "#     'kpt&segm' or 'segm&kpt': only load instances contained both keypoint and mask annotations (and bbox)\n",
    "#            images: 4731, instances: 8110\n",
    "#     'kpt|segm' or 'segm|kpt': load instances contained either keypoint or mask annotations (and bbox)\n",
    "#            images: 5081, instances: 10375\n",
    "#     'kpt' or 'segm': load instances contained particular kind of annotations (and bbox)\n",
    "#            images: 5081/4731, instances: 10375/8110\n",
    "ochuman = OCHuman(AnnoFile='./ochuman.json', Filter='kpt&segm')\n",
    "image_ids = ochuman.getImgIds()\n",
    "print ('Total images: %d'%len(image_ids))"
   ]
  },
  {
   "cell_type": "code",
   "execution_count": null,
   "outputs": [],
   "source": [
    "## Load annotations & Visualize\n",
    "import cv2, os\n",
    "import matplotlib\n",
    "import matplotlib.pyplot as plt\n",
    "%matplotlib inline\n",
    "plt.rcParams['figure.figsize'] = (15, 15)\n",
    "import Model.ochumanApi.vis as vistool\n",
    "from Model.ochumanApi.ochuman import Poly2Mask\n",
    "\n",
    "#ImgDir = './Media/'\n",
    "#img = cv2.imread(os.path.join(ImgDir, data['file_name']))\n",
    "\n",
    "data = cv2.imread(\"Media/Front_Female.jpg\")\n",
    "height, width = data['height'], data['width']\n",
    "\n",
    "colors = [[255, 0, 0],\n",
    "         [255, 255, 0],\n",
    "         [0, 255, 0],\n",
    "         [0, 255, 255],\n",
    "         [0, 0, 255],\n",
    "         [255, 0, 255]]\n",
    "\n",
    "for i, anno in enumerate(data['annotations']):\n",
    "    bbox = anno['bbox']\n",
    "    kpt = anno['keypoints']\n",
    "    segm = anno['segms']\n",
    "    max_iou = anno['max_iou']\n",
    "\n",
    "    img = vistool.draw_bbox(img, bbox, thickness=3, color=colors[i%len(colors)])\n",
    "    if segm is not None:\n",
    "        mask = Poly2Mask(segm)\n",
    "        img = vistool.draw_mask(img, mask, thickness=3, color=colors[i%len(colors)])\n",
    "    if kpt is not None:\n",
    "        img = vistool.draw_skeleton(img, kpt, connection=None, colors=colors[i%len(colors)], bbox=bbox)\n",
    "\n",
    "plt.imshow(img[:,:,::-1])\n",
    "plt.axis('off')\n",
    "plt.show()"
   ],
   "metadata": {
    "collapsed": false,
    "pycharm": {
     "name": "#%%\n"
    }
   }
  },
  {
   "cell_type": "code",
   "execution_count": null,
   "outputs": [],
   "source": [
    "## Convert to coco format.\n",
    "# <maxIouRange>:\n",
    "#     (0.0, 1.0) means all instances\n",
    "#     (0.5, 0.75) means Moderate instances\n",
    "#     (0.75, 1.0) means Hard instances\n",
    "ochuman.toCocoFormart(subset='val', maxIouRange=(0.0, 1.0), save_dir='./')\n",
    "ochuman.toCocoFormart(subset='test', maxIouRange=(0.0, 1.0), save_dir='./')"
   ],
   "metadata": {
    "collapsed": false,
    "pycharm": {
     "name": "#%%\n"
    }
   }
  }
 ],
 "metadata": {
  "kernelspec": {
   "display_name": "Python 3",
   "language": "python",
   "name": "python3"
  },
  "language_info": {
   "codemirror_mode": {
    "name": "ipython",
    "version": 2
   },
   "file_extension": ".py",
   "mimetype": "text/x-python",
   "name": "python",
   "nbconvert_exporter": "python",
   "pygments_lexer": "ipython2",
   "version": "2.7.6"
  }
 },
 "nbformat": 4,
 "nbformat_minor": 0
}